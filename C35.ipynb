{
 "cells": [
  {
   "cell_type": "code",
   "execution_count": 69,
   "id": "initial_id",
   "metadata": {
    "ExecuteTime": {
     "end_time": "2023-11-19T17:10:09.268617Z",
     "start_time": "2023-11-19T17:10:09.073487Z"
    },
    "collapsed": true
   },
   "outputs": [],
   "source": [
    "import numpy as np\n",
    "import pandas as pd\n",
    "import glob\n",
    "import matplotlib.pyplot as plt\n",
    "import uncertainties\n",
    "from uncertainties import ufloat, unumpy\n",
    "from uncertainties.umath import log, sin, radians\n",
    "from scipy.odr import ODR, Model, RealData\n",
    "from scipy.optimize import fsolve, curve_fit\n",
    "from matplotlib.ticker import AutoMinorLocator, LogLocator\n",
    "from scipy import constants"
   ]
  },
  {
   "cell_type": "markdown",
   "id": "e04b442f",
   "metadata": {},
   "source": [
    "## Measurement of the speed of sound"
   ]
  },
  {
   "cell_type": "markdown",
   "id": "f13b2731",
   "metadata": {},
   "source": [
    "### Speed of sound in polyacrylic"
   ]
  },
  {
   "cell_type": "code",
   "execution_count": 70,
   "id": "17b2b90f",
   "metadata": {},
   "outputs": [],
   "source": [
    "\n",
    "errL = 0.05 * 1e-3\n",
    "errT = np.sqrt(2) * 1 * 1e-6\n",
    "\n",
    "bigC_L = ufloat(12.175 * 1e-2, errL)\n",
    "midC_L = ufloat(8.080 * 1e-2, errL)\n",
    "smallC_L = ufloat(4.125 * 1e-2, errL)\n",
    "t_big = ufloat(86.19 * 1e-6, errT)\n",
    "t_mid = ufloat(56.6 * 1e-6, errT)\n",
    "t_small = ufloat(25.7 * 1e-6, errT)\n",
    "\n",
    "cylinder = [[bigC_L, t_big], [midC_L, t_mid], [smallC_L, t_small]]\n",
    "cA, _, _ = np.array([2 * i[0] / i[1] for i in cylinder ]) / 1000\n",
    "\n",
    "# np.array([smallC_L, midC_L, bigC_L]) * 1e2"
   ]
  },
  {
   "cell_type": "markdown",
   "id": "a5990798",
   "metadata": {},
   "source": [
    "### Speed of sound in water"
   ]
  },
  {
   "cell_type": "code",
   "execution_count": 71,
   "id": "1f02595a",
   "metadata": {},
   "outputs": [
    {
     "data": {
      "text/plain": [
       "array([1.5392781316348196+/-0.15690755922226846,\n",
       "       1.4764885251163538+/-0.09280606036116835], dtype=object)"
      ]
     },
     "execution_count": 71,
     "metadata": {},
     "output_type": "execute_result"
    }
   ],
   "source": [
    "errD = 2 * 1e-3\n",
    "errT = errT = np.sqrt(2) * 2 * 1e-6\n",
    "\n",
    "d1, d2 = ufloat(2.9 * 1e-2, errD), ufloat(4.6 * 1e-2, errD)\n",
    "t1, t2 = ufloat(37.68 * 1e-6, errT), ufloat(62.31 * 1e-6, errT)\n",
    "\n",
    "water = [[d1, t1], [d2, t2]]\n",
    "_, cw = np.array([2 * i[0] / i[1] for i in water ])\n",
    "np.array([2 * i[0] / i[1] for i in water ]) / 1000"
   ]
  },
  {
   "cell_type": "markdown",
   "id": "85faabfa",
   "metadata": {},
   "source": [
    "## Rate of absorption"
   ]
  },
  {
   "cell_type": "code",
   "execution_count": 72,
   "id": "558b952e",
   "metadata": {},
   "outputs": [],
   "source": [
    "def calc_exp(l, I0, I1):\n",
    "    return log(I0/I1)*(1/(2*l))"
   ]
  },
  {
   "cell_type": "code",
   "execution_count": 73,
   "id": "5dd5600d",
   "metadata": {},
   "outputs": [],
   "source": [
    "errA = 0.02\n",
    "l = [ufloat(7.010, 0.005), ufloat(4.005, 0.005), ufloat(2.510, 0.005), ufloat(2.510, 0.005)]\n",
    "A0 = [ufloat(1.15, errA), ufloat(1.19, errA), ufloat(1.26, errA), ufloat(1.21, errA)]\n",
    "A1 = [ufloat(0.07, errA), ufloat(0.10, errA), ufloat(0.64, errA), ufloat(0.15, errA)]"
   ]
  },
  {
   "cell_type": "code",
   "execution_count": 74,
   "id": "f4d94906",
   "metadata": {},
   "outputs": [
    {
     "data": {
      "text/plain": [
       "0.2145885876714543+/-0.011023604656756442"
      ]
     },
     "execution_count": 74,
     "metadata": {},
     "output_type": "execute_result"
    }
   ],
   "source": [
    "lam = [calc_exp(i, A0[index], A1[index]) for index, i in enumerate(l)]\n",
    "np.mean(lam[:3])"
   ]
  },
  {
   "cell_type": "code",
   "execution_count": 75,
   "id": "09a29099",
   "metadata": {},
   "outputs": [
    {
     "data": {
      "text/plain": [
       "0.415884530775803+/-0.02677655362134625"
      ]
     },
     "execution_count": 75,
     "metadata": {},
     "output_type": "execute_result"
    }
   ],
   "source": [
    "lam[3]"
   ]
  },
  {
   "cell_type": "markdown",
   "id": "0c201c30",
   "metadata": {},
   "source": [
    "### Speed of sound in aluminium"
   ]
  },
  {
   "cell_type": "code",
   "execution_count": 76,
   "id": "46f9db0b",
   "metadata": {},
   "outputs": [],
   "source": [
    "def calc_speed(alpha, beta, cw):\n",
    "    return (sin(radians(beta))/sin(radians(alpha))) * cw"
   ]
  },
  {
   "cell_type": "code",
   "execution_count": 114,
   "id": "8a5cb3f9",
   "metadata": {},
   "outputs": [
    {
     "name": "stdout",
     "output_type": "stream",
     "text": [
      "longitudinal, beta=90°, alpha=15°: 5.705+/-0.825 km/s\n",
      "transvers1, beta=45°, alpha=21°: = 2.913+/-0.322 km/s\n",
      "transvers2, beta=90°, alpha=32°: = 2.786+/-0.234 km/s\n"
     ]
    }
   ],
   "source": [
    "errAlpha = 2\n",
    "longitudinal = calc_speed(ufloat(15, errAlpha), 90, cw) / 1000\n",
    "transvers1 = calc_speed(ufloat(21, errAlpha), 45, cw) / 1000\n",
    "transvers2 = calc_speed(ufloat(32, errAlpha), 90, cw) / 1000\n",
    "print(f'longitudinal, beta=90°, alpha=15°: {longitudinal:.3f} km/s')\n",
    "print(f'transvers1, beta=45°, alpha=21°: = {transvers1:.3f} km/s')\n",
    "print(f'transvers2, beta=90°, alpha=32°: = {transvers2:.3f} km/s')\n"
   ]
  },
  {
   "cell_type": "markdown",
   "id": "b7190c01",
   "metadata": {},
   "source": [
    "## Non-invasive distance measurement"
   ]
  },
  {
   "cell_type": "code",
   "execution_count": 92,
   "id": "3a95dde4",
   "metadata": {},
   "outputs": [
    {
     "data": {
      "text/plain": [
       "array([['B1', 7.875878204502185+/-0.12926861557054142],\n",
       "       ['B2', 15.700944291555968+/-0.25770324007288586],\n",
       "       ['B3', 24.532090304088094+/-0.40265088772553165],\n",
       "       ['B4', 32.05228368645147+/-0.5260815658186938],\n",
       "       ['B5', 40.56839457080351+/-0.665858468848518],\n",
       "       ['B6', 48.200374611553364+/-0.7911239272917135],\n",
       "       ['B7', 55.91365404022067+/-0.9177237714440245],\n",
       "       ['B8', 63.63709589237765+/-1.0444904138099746],\n",
       "       ['B9a', 20.97524208270001+/-0.34427151295173875],\n",
       "       ['B9b', 18.333011975383148+/-0.3009039774054925],\n",
       "       ['B10', 57.94613873815672+/-0.951083414171906],\n",
       "       ['tot', 81.50263638723553+/-1.3377216733880546]], dtype=object)"
      ]
     },
     "execution_count": 92,
     "metadata": {},
     "output_type": "execute_result"
    }
   ],
   "source": [
    "c_Acryl = 2780\n",
    "names = np.array(['B1', 'B2', 'B3', 'B4', 'B5', 'B6', 'B7', 'B8', 'B9a', 'B9b', 'B10', 'tot'])\n",
    "values = np.array([7.75, 15.45, 24.14, 31.54, 39.92, 47.43, 55.02, 62.62, 20.64, 18.04, 57.02, 80.2])\n",
    "depths = unumpy.uarray(values, np.full(len(values), 0)) * 1e-3 / c_Acryl * cA * 1000 \n",
    "depths * 1000\n",
    "all_depths = np.column_stack((names, depths * 1000))\n",
    "all_depths"
   ]
  },
  {
   "cell_type": "code",
   "execution_count": 105,
   "id": "f5b0fa6f",
   "metadata": {},
   "outputs": [
    {
     "name": "stdout",
     "output_type": "stream",
     "text": [
      "d1MHz = 1.646+/-0.039\n",
      "d2MHz = 1.961+/-0.035\n",
      "d4MHz = 1.809+/-0.033\n"
     ]
    }
   ],
   "source": [
    "d1MHz = ufloat(1.62, np.sqrt(2) * 0.02) / c_Acryl * cA * 1000\n",
    "d2MHz = ufloat(1.93, np.sqrt(2) * 0.01) / c_Acryl * cA * 1000\n",
    "d4MHz = ufloat(1.78, np.sqrt(2) * 0.01) / c_Acryl * cA * 1000\n",
    "print(f'd1MHz = {d1MHz:.3f}')\n",
    "print(f'd2MHz = {d2MHz:.3f}')\n",
    "print(f'd4MHz = {d4MHz:.3f}')"
   ]
  },
  {
   "cell_type": "code",
   "execution_count": 112,
   "id": "1e9711ac",
   "metadata": {},
   "outputs": [
    {
     "data": {
      "text/plain": [
       "0.28284271247461906"
      ]
     },
     "execution_count": 112,
     "metadata": {},
     "output_type": "execute_result"
    }
   ],
   "source": [
    "np.sqrt(2)*.2"
   ]
  },
  {
   "cell_type": "markdown",
   "id": "9776a871",
   "metadata": {},
   "source": [
    "## Debye-Sears-effect"
   ]
  },
  {
   "cell_type": "code",
   "execution_count": 226,
   "id": "1cab9fb0",
   "metadata": {},
   "outputs": [],
   "source": [
    "s = ufloat(2.92, 0.04)\n",
    "nu_ultra = np.arange(3, 13, 1) * 1e6\n",
    "lam_red = 650 * 1e-9\n",
    "lam_green = 532 * 1e-9\n",
    "lam_violett = 405 * 1e-9\n",
    "x_violett = unumpy.uarray([2.5, 3, 4, 5, 5.5, 6.5, 7, 8, 8.5, 9], np.full(len(nu_ultra), np.sqrt(2) * .5)) * 1e-3\n",
    "x_green = unumpy.uarray([3, 4, 5, 6, 7, 8, 9, 10, 11, 12], np.full(len(nu_ultra), np.sqrt(2) * .5)) * 1e-3\n",
    "x_red = unumpy.uarray([4, 5, 6, 7.5, 8.5, 10, 11, 12, 13.5, 15], np.full(len(nu_ultra), np.sqrt(2) * .5)) * 1e-3\n"
   ]
  },
  {
   "cell_type": "code",
   "execution_count": 227,
   "id": "9d6ce51e",
   "metadata": {},
   "outputs": [],
   "source": [
    "def lin(x, a):\n",
    "    return a*x"
   ]
  },
  {
   "cell_type": "code",
   "execution_count": 228,
   "id": "d55c1fac",
   "metadata": {},
   "outputs": [],
   "source": [
    "popts = []\n",
    "pcovs = []\n",
    "for i in [x_violett, x_green, x_red]:\n",
    "    popt, pcov = curve_fit(lin, nu_ultra, unumpy.nominal_values(i), sigma=unumpy.std_devs(i), absolute_sigma=True)\n",
    "    popts.append(popt)\n",
    "    pcovs.append(pcov)"
   ]
  },
  {
   "cell_type": "code",
   "execution_count": 232,
   "id": "8ddbfc19",
   "metadata": {},
   "outputs": [
    {
     "data": {
      "image/png": "[encoded data removed]",
      "text/plain": [
       "<Figure size 960x720 with 1 Axes>"
      ]
     },
     "metadata": {},
     "output_type": "display_data"
    }
   ],
   "source": [
    "fig, ax = plt.subplots(dpi=150)\n",
    "\n",
    "plt.rcParams[\"font.family\"] = \"times\"\n",
    "plt.rcParams[\"text.usetex\"] = True\n",
    "\n",
    "x = np.linspace(0, 13, 1000)\n",
    "\n",
    "for index, i in enumerate(['magenta', 'lime', 'red']):\n",
    "    labels = ['Linear regression (405nm)', 'Linear regression (532nm)', 'Linear regression (650nm)']\n",
    "    ax.plot(x, lin(x * 1e6, popts[index][0]) * 1000,\n",
    "        c=i,\n",
    "        linewidth=.8,\n",
    "        label=labels[index],\n",
    "        zorder=3)\n",
    "\n",
    "\n",
    "ax.errorbar(nu_ultra / 1e6, unumpy.nominal_values(x_violett) * 1000,\n",
    "            capsize=4,\n",
    "            xerr=None, yerr=unumpy.std_devs(x_violett) * 1000,\n",
    "            ecolor='black',\n",
    "            elinewidth=.6,\n",
    "            capthick=.6,\n",
    "            markersize=5, fmt=\"s\",\n",
    "            markeredgecolor='none', c=\"magenta\",\n",
    "            label='$\\Delta x$ between maxima (405nm)',\n",
    "            zorder=2)\n",
    "ax.errorbar(nu_ultra / 1e6, unumpy.nominal_values(x_green) * 1000,\n",
    "            capsize=4,\n",
    "            xerr=None, yerr=unumpy.std_devs(x_green) * 1000,\n",
    "            ecolor='black',\n",
    "            elinewidth=.6,\n",
    "            capthick=.6,\n",
    "            markersize=5, fmt=\"s\",\n",
    "            markeredgecolor='none', c=\"lime\",\n",
    "            label='$\\Delta x$ between maxima (532nm)',\n",
    "            zorder=2)\n",
    "ax.errorbar(nu_ultra / 1e6, unumpy.nominal_values(x_red) * 1000,\n",
    "            capsize=4,\n",
    "            xerr=None, yerr=unumpy.std_devs(x_red) * 1000,\n",
    "            ecolor='black',\n",
    "            elinewidth=.6,\n",
    "            capthick=.6,\n",
    "            markersize=5, fmt=\"s\",\n",
    "            markeredgecolor='none', c=\"red\",\n",
    "            label='$\\Delta x$ between maxima (650nm)',\n",
    "            zorder=2)\n",
    "ax.set_xlim(0, 13)\n",
    "ax.set_ylim(0, 16)\n",
    "# ax.plot(x, linear([lin_output.beta[0], lin_output.beta[1] * 1e14], x),\n",
    "#         c='red',\n",
    "#         linewidth=.8,\n",
    "#         label='Linear fit',\n",
    "#         zorder=3)\n",
    "ax.set_ylabel('$x_1$ [mm]', fontsize=12)\n",
    "ax.set_xlabel(r'$\\nu_\\mathrm{ultrasound}$ [MHz]', fontsize=12)\n",
    "ax.xaxis.set_minor_locator(AutoMinorLocator(2))\n",
    "ax.yaxis.set_minor_locator(AutoMinorLocator(2))\n",
    "ax.tick_params(axis='x', which='both',direction='in', labelsize=12, width=1, length=2, bottom=True, top=True)\n",
    "ax.tick_params(axis='y', which='both',direction='in', labelsize=12, left=True, right=True)\n",
    "\n",
    "handles, labels = plt.gca().get_legend_handles_labels()\n",
    "order = [3,0,4,1,5,2]  \n",
    "\n",
    "plt.legend([handles[idx] for idx in order],\n",
    "        [labels[idx] for idx in order],\n",
    "        loc=\"upper left\",\n",
    "        bbox_to_anchor=(0.02, 0.98),\n",
    "        fancybox=False,\n",
    "        edgecolor='black',\n",
    "        fontsize=10)\n",
    "plt.show()\n",
    "\n",
    "fig.savefig('/Users/danielmiksch/Library/CloudStorage/OneDrive-Persönlich/Uni/C-Praktikum/C35/debye_sears.pdf')"
   ]
  },
  {
   "cell_type": "code",
   "execution_count": 230,
   "id": "72c4d5be",
   "metadata": {},
   "outputs": [],
   "source": [
    "c_ws = []\n",
    "for index, i in enumerate(np.array([405, 532, 650]) * 1e-9):\n",
    "    c = (s*i) / ufloat(popts[index][0], pcovs[index][0]) / 1000\n",
    "    c_ws.append(c)\n",
    "    "
   ]
  },
  {
   "cell_type": "code",
   "execution_count": 231,
   "id": "3b9a824c",
   "metadata": {},
   "outputs": [
    {
     "name": "stdout",
     "output_type": "stream",
     "text": [
      "v405nm = 1.512+/-0.021\n",
      "v532nm = 1.553+/-0.021\n",
      "v650nm = 1.542+/-0.021\n"
     ]
    }
   ],
   "source": [
    "print(f'v405nm = {c_ws[0]:.3f}')\n",
    "print(f'v532nm = {c_ws[1]:.3f}')\n",
    "print(f'v650nm = {c_ws[2]:.3f}')"
   ]
  },
  {
   "cell_type": "markdown",
   "id": "ff727020",
   "metadata": {},
   "source": [
    "## Thickness of acrylic block"
   ]
  },
  {
   "cell_type": "code",
   "execution_count": 247,
   "id": "e3225c3e",
   "metadata": {},
   "outputs": [
    {
     "name": "stdout",
     "output_type": "stream",
     "text": [
      "d_ceptrum = 10.51+/-0.17\n",
      "d_runtime = 10.31+/-0.17\n"
     ]
    }
   ],
   "source": [
    "cAcryl = cA * 1000\n",
    "\n",
    "t_ceptrum = ufloat(7.44, 0.01) * 1e-6\n",
    "t_runtime = ufloat(36.48, 0.01) * 1e-6\n",
    "\n",
    "d_ceptrum = (cAcryl* t_ceptrum) / 2 * 1000\n",
    "d_runtime = cAcryl * t_runtime / 10 * 1000\n",
    "\n",
    "print(f'd_ceptrum = {d_ceptrum:.2f}')\n",
    "print(f'd_runtime = {d_runtime:.2f}')"
   ]
  },
  {
   "cell_type": "code",
   "execution_count": null,
   "id": "0348953b",
   "metadata": {},
   "outputs": [],
   "source": []
  }
 ],
 "metadata": {
  "kernelspec": {
   "display_name": "Python 3",
   "language": "python",
   "name": "python3"
  },
  "language_info": {
   "codemirror_mode": {
    "name": "ipython",
    "version": 3
   },
   "file_extension": ".py",
   "mimetype": "text/x-python",
   "name": "python",
   "nbconvert_exporter": "python",
   "pygments_lexer": "ipython3",
   "version": "3.10.10"
  }
 },
 "nbformat": 4,
 "nbformat_minor": 5
}
