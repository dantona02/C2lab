{
 "cells": [
  {
   "cell_type": "code",
   "execution_count": 1,
   "id": "initial_id",
   "metadata": {
    "ExecuteTime": {
     "end_time": "2023-11-19T17:10:09.268617Z",
     "start_time": "2023-11-19T17:10:09.073487Z"
    },
    "collapsed": true
   },
   "outputs": [],
   "source": [
    "import numpy as np\n",
    "import pandas as pd\n",
    "import glob\n",
    "import matplotlib.pyplot as plt\n",
    "import uncertainties\n",
    "from uncertainties import ufloat, unumpy\n",
    "from uncertainties.umath import log\n",
    "from scipy.odr import ODR, Model, RealData\n",
    "from scipy.optimize import fsolve, curve_fit\n",
    "from matplotlib.ticker import AutoMinorLocator, LogLocator\n",
    "from scipy import constants"
   ]
  },
  {
   "cell_type": "code",
   "execution_count": 2,
   "id": "e04b442f",
   "metadata": {},
   "outputs": [
    {
     "data": {
      "text/plain": [
       "0.36050000000000004"
      ]
     },
     "execution_count": 2,
     "metadata": {},
     "output_type": "execute_result"
    }
   ],
   "source": [
    "resistance = 52.1\n",
    "dOmega = 0.005 * resistance + 0.1\n",
    "dOmega"
   ]
  },
  {
   "cell_type": "markdown",
   "id": "d5a16f7f",
   "metadata": {},
   "source": [
    "## Propagation velocity"
   ]
  },
  {
   "cell_type": "markdown",
   "id": "eb9753d5",
   "metadata": {},
   "source": [
    "### Coax cable"
   ]
  },
  {
   "cell_type": "code",
   "execution_count": 3,
   "id": "7144b346",
   "metadata": {},
   "outputs": [
    {
     "data": {
      "text/plain": [
       "1.9685039370078738+/-0.05480229933904268"
      ]
     },
     "execution_count": 3,
     "metadata": {},
     "output_type": "execute_result"
    }
   ],
   "source": [
    "dt = np.sqrt(2) * 10\n",
    "T = ufloat(508*1e-9, dt*1e-9)\n",
    "l = ufloat(50, 0.01)\n",
    "(2*l/T) / 1e8 # in 10^8 m/s"
   ]
  },
  {
   "cell_type": "markdown",
   "id": "109c8979",
   "metadata": {},
   "source": [
    "### Delay cable"
   ]
  },
  {
   "cell_type": "code",
   "execution_count": 4,
   "id": "538fe540",
   "metadata": {},
   "outputs": [
    {
     "data": {
      "text/plain": [
       "5.1123595505617985+/-0.2283604168872041"
      ]
     },
     "execution_count": 4,
     "metadata": {},
     "output_type": "execute_result"
    }
   ],
   "source": [
    "dt_delay = np.sqrt(2) * 50\n",
    "T_delay = ufloat(1.78*1e-6, dt*1e-9)\n",
    "l_delay = ufloat(0.455, 0.02)\n",
    "(2*l_delay/T_delay) / 1e5 # in 10^8 m/s\n",
    "# dt_delay / 1e3"
   ]
  },
  {
   "cell_type": "code",
   "execution_count": 5,
   "id": "d10bc9ab",
   "metadata": {},
   "outputs": [
    {
     "data": {
      "text/plain": [
       "0.984251968503937+/-0.02740044257186386"
      ]
     },
     "execution_count": 5,
     "metadata": {},
     "output_type": "execute_result"
    }
   ],
   "source": [
    "v_p = (2*l/T)\n",
    "(v_p / ((4)*l)) / 1e6"
   ]
  },
  {
   "cell_type": "markdown",
   "id": "ba690fff",
   "metadata": {},
   "source": [
    "## Speed of light"
   ]
  },
  {
   "cell_type": "code",
   "execution_count": 51,
   "id": "2b0e0ba8",
   "metadata": {},
   "outputs": [
    {
     "data": {
      "text/plain": [
       "array([20.0+/-14.142135623730951, 24.000000000000004+/-14.053769367646654,\n",
       "       24.000000000000004+/-13.965403111562354,\n",
       "       56.00000000000001+/-10.598648754750625, 55.0+/-10.510282498666328,\n",
       "       59.00000000000001+/-10.42191624258203, 82.0+/-7.24780032403407,\n",
       "       84.00000000000001+/-7.159434067949772, 86.0+/-7.0710678118654755],\n",
       "      dtype=object)"
      ]
     },
     "execution_count": 51,
     "metadata": {},
     "output_type": "execute_result"
    }
   ],
   "source": [
    "lengths = [3.913, 4.013, 4.113, 7.923, 8.023, 8.123, 11.715, 11.815, 11.915]\n",
    "times = np.array([20, 24, 24, 56, 55, 59, 82, 84, 86]) * 1e-9\n",
    "\n",
    "m = (5-10) / (lengths[-1]-lengths[0])\n",
    "a = 10-m*lengths[0]\n",
    "\n",
    "errTimes = np.array([np.sqrt(2) * abs(m*i+a)  for i in lengths]) * 1e-9\n",
    "d = unumpy.uarray(lengths, np.full(len(lengths), np.sqrt(2) * 0.002))\n",
    "t = unumpy.uarray(times, errTimes)\n",
    "\n",
    "c = (2 * d / t) / 1e8\n",
    "t * 1e9"
   ]
  },
  {
   "cell_type": "code",
   "execution_count": 14,
   "id": "3fc2b2d7",
   "metadata": {},
   "outputs": [
    {
     "data": {
      "text/plain": [
       "2.9099284669222016+/-0.44307255801068557"
      ]
     },
     "execution_count": 14,
     "metadata": {},
     "output_type": "execute_result"
    }
   ],
   "source": [
    "np.mean(c[2:])"
   ]
  },
  {
   "cell_type": "code",
   "execution_count": 50,
   "id": "9e580a8e",
   "metadata": {},
   "outputs": [
    {
     "data": {
      "text/plain": [
       "-1.6003999999999998"
      ]
     },
     "execution_count": 50,
     "metadata": {},
     "output_type": "execute_result"
    }
   ],
   "source": [
    "(11.915 - 3.913) / (-5)"
   ]
  },
  {
   "cell_type": "code",
   "execution_count": null,
   "id": "0ed16a9a",
   "metadata": {},
   "outputs": [],
   "source": []
  }
 ],
 "metadata": {
  "kernelspec": {
   "display_name": "Python 3",
   "language": "python",
   "name": "python3"
  },
  "language_info": {
   "codemirror_mode": {
    "name": "ipython",
    "version": 3
   },
   "file_extension": ".py",
   "mimetype": "text/x-python",
   "name": "python",
   "nbconvert_exporter": "python",
   "pygments_lexer": "ipython3",
   "version": "3.10.10"
  }
 },
 "nbformat": 4,
 "nbformat_minor": 5
}
