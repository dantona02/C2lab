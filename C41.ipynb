{
 "cells": [
  {
   "cell_type": "code",
   "execution_count": 2,
   "id": "initial_id",
   "metadata": {
    "ExecuteTime": {
     "end_time": "2023-11-19T17:10:09.268617Z",
     "start_time": "2023-11-19T17:10:09.073487Z"
    },
    "collapsed": true
   },
   "outputs": [],
   "source": [
    "import numpy as np\n",
    "import pandas as pd\n",
    "import glob\n",
    "import matplotlib.pyplot as plt\n",
    "import uncertainties\n",
    "from uncertainties import ufloat, unumpy\n",
    "from uncertainties.umath import log10\n",
    "from scipy.odr import ODR, Model, RealData\n",
    "from scipy.optimize import fsolve, curve_fit\n",
    "from matplotlib.ticker import AutoMinorLocator, LogLocator\n",
    "from scipy import constants"
   ]
  },
  {
   "cell_type": "code",
   "execution_count": 3,
   "id": "e04b442f",
   "metadata": {},
   "outputs": [
    {
     "data": {
      "text/plain": [
       "0.36050000000000004"
      ]
     },
     "execution_count": 3,
     "metadata": {},
     "output_type": "execute_result"
    }
   ],
   "source": [
    "resistance = 52.1\n",
    "dOmega = 0.005 * resistance + 0.1\n",
    "dOmega"
   ]
  },
  {
   "cell_type": "markdown",
   "id": "d5a16f7f",
   "metadata": {},
   "source": [
    "## Propagation velocity"
   ]
  },
  {
   "cell_type": "markdown",
   "id": "eb9753d5",
   "metadata": {},
   "source": [
    "### Coax cable"
   ]
  },
  {
   "cell_type": "code",
   "execution_count": 4,
   "id": "7144b346",
   "metadata": {},
   "outputs": [
    {
     "data": {
      "text/plain": [
       "1.9685039370078738+/-0.05480229933904268"
      ]
     },
     "execution_count": 4,
     "metadata": {},
     "output_type": "execute_result"
    }
   ],
   "source": [
    "dt = np.sqrt(2) * 10\n",
    "T = ufloat(508*1e-9, dt*1e-9)\n",
    "l = ufloat(50, 0.01)\n",
    "(2*l/T) / 1e8 # in 10^8 m/s"
   ]
  },
  {
   "cell_type": "markdown",
   "id": "109c8979",
   "metadata": {},
   "source": [
    "### Delay cable"
   ]
  },
  {
   "cell_type": "code",
   "execution_count": 5,
   "id": "538fe540",
   "metadata": {},
   "outputs": [
    {
     "data": {
      "text/plain": [
       "5.1123595505617985+/-0.2283604168872041"
      ]
     },
     "execution_count": 5,
     "metadata": {},
     "output_type": "execute_result"
    }
   ],
   "source": [
    "dt_delay = np.sqrt(2) * 50\n",
    "T_delay = ufloat(1.78*1e-6, dt*1e-9)\n",
    "l_delay = ufloat(0.455, 0.02)\n",
    "(2*l_delay/T_delay) / 1e5 # in 10^8 m/s\n",
    "# dt_delay / 1e3"
   ]
  },
  {
   "cell_type": "code",
   "execution_count": 12,
   "id": "d10bc9ab",
   "metadata": {},
   "outputs": [
    {
     "data": {
      "text/plain": [
       "[2.9527559055118116+/-0.08220132771559158,\n",
       " 1.968503937007874+/-0.05480088514372772,\n",
       " 0.984251968503937+/-0.02740044257186386]"
      ]
     },
     "execution_count": 12,
     "metadata": {},
     "output_type": "execute_result"
    }
   ],
   "source": [
    "v_p = (2*l/T)\n",
    "[(v_p / ((i)*l)) / 1e6 for i in [4/3, 2, 4]]"
   ]
  },
  {
   "cell_type": "markdown",
   "id": "ba690fff",
   "metadata": {},
   "source": [
    "## Speed of light"
   ]
  },
  {
   "cell_type": "code",
   "execution_count": 7,
   "id": "2b0e0ba8",
   "metadata": {},
   "outputs": [
    {
     "data": {
      "text/plain": [
       "array([3.913+/-2.766910280439176, 3.3441666666666663+/-1.9582575460078342,\n",
       "       3.4275+/-1.9944355246343737,\n",
       "       2.829642857142857+/-0.5355436445467966,\n",
       "       2.917454545454545+/-0.5575149750798377,\n",
       "       2.7535593220338974+/-0.4863969555493667,\n",
       "       2.857317073170732+/-0.25255293742392126,\n",
       "       2.8130952380952374+/-0.23976487294133655,\n",
       "       2.770930232558139+/-0.22783159576975812], dtype=object)"
      ]
     },
     "execution_count": 7,
     "metadata": {},
     "output_type": "execute_result"
    }
   ],
   "source": [
    "lengths = [3.913, 4.013, 4.113, 7.923, 8.023, 8.123, 11.715, 11.815, 11.915]\n",
    "times = np.array([20, 24, 24, 56, 55, 59, 82, 84, 86]) * 1e-9\n",
    "\n",
    "m = (5-10) / (lengths[-1]-lengths[0])\n",
    "a = 10-m*lengths[0]\n",
    "\n",
    "errTimes = np.array([np.sqrt(2) * abs(m*i+a)  for i in lengths]) * 1e-9\n",
    "d = unumpy.uarray(lengths, np.full(len(lengths), np.sqrt(2) * 0.002))\n",
    "t = unumpy.uarray(times, errTimes)\n",
    "\n",
    "c = (2 * d / t) / 1e8\n",
    "c"
   ]
  },
  {
   "cell_type": "code",
   "execution_count": 8,
   "id": "3fc2b2d7",
   "metadata": {},
   "outputs": [],
   "source": [
    "def weight_avg(data):\n",
    "    weights = 1 / unumpy.std_devs(data)**2\n",
    "    avg = np.sum(unumpy.nominal_values(data)*weights) / np.sum(weights)\n",
    "    std_err = 1 / np.sqrt(np.sum(weights))\n",
    "    return f'{avg} ± {std_err}'"
   ]
  },
  {
   "cell_type": "code",
   "execution_count": 9,
   "id": "ceb21730",
   "metadata": {},
   "outputs": [
    {
     "data": {
      "text/plain": [
       "'2.820283511406525 ± 0.12508596633341607'"
      ]
     },
     "execution_count": 9,
     "metadata": {},
     "output_type": "execute_result"
    }
   ],
   "source": [
    "weight_avg(c)"
   ]
  },
  {
   "cell_type": "code",
   "execution_count": 10,
   "id": "01b14cd1",
   "metadata": {},
   "outputs": [],
   "source": [
    "def dampening(U0, U):\n",
    "    return 20 * log10(U0 / (U0 - U))"
   ]
  },
  {
   "cell_type": "code",
   "execution_count": 11,
   "id": "35d48ac9",
   "metadata": {},
   "outputs": [
    {
     "data": {
      "text/plain": [
       "0.9151498112135028+/-0.19302942048200264"
      ]
     },
     "execution_count": 11,
     "metadata": {},
     "output_type": "execute_result"
    }
   ],
   "source": [
    "U0 = ufloat(5, 0.01)\n",
    "dampening(U0, ufloat(0.5, 0.1))"
   ]
  },
  {
   "cell_type": "code",
   "execution_count": null,
   "id": "e41b079a",
   "metadata": {},
   "outputs": [],
   "source": []
  }
 ],
 "metadata": {
  "kernelspec": {
   "display_name": "Python 3",
   "language": "python",
   "name": "python3"
  },
  "language_info": {
   "codemirror_mode": {
    "name": "ipython",
    "version": 3
   },
   "file_extension": ".py",
   "mimetype": "text/x-python",
   "name": "python",
   "nbconvert_exporter": "python",
   "pygments_lexer": "ipython3",
   "version": "3.10.10"
  }
 },
 "nbformat": 4,
 "nbformat_minor": 5
}
