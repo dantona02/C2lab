{
 "cells": [
  {
   "cell_type": "code",
   "execution_count": 85,
   "id": "initial_id",
   "metadata": {
    "ExecuteTime": {
     "end_time": "2023-11-19T17:10:09.268617Z",
     "start_time": "2023-11-19T17:10:09.073487Z"
    },
    "collapsed": true
   },
   "outputs": [],
   "source": [
    "import numpy as np\n",
    "import pandas as pd\n",
    "import glob\n",
    "import matplotlib.pyplot as plt\n",
    "import uncertainties\n",
    "from uncertainties import ufloat, unumpy\n",
    "from uncertainties.umath import log10\n",
    "from scipy.odr import ODR, Model, RealData\n",
    "from scipy.optimize import fsolve, curve_fit\n",
    "from matplotlib.ticker import AutoMinorLocator, LogLocator\n",
    "from scipy import constants"
   ]
  },
  {
   "cell_type": "code",
   "execution_count": 86,
   "id": "e04b442f",
   "metadata": {},
   "outputs": [
    {
     "data": {
      "text/plain": [
       "0.36050000000000004"
      ]
     },
     "execution_count": 86,
     "metadata": {},
     "output_type": "execute_result"
    }
   ],
   "source": [
    "resistance = 52.1\n",
    "dOmega = 0.005 * resistance + 0.1\n",
    "dOmega"
   ]
  },
  {
   "cell_type": "markdown",
   "id": "d5a16f7f",
   "metadata": {},
   "source": [
    "## Propagation velocity"
   ]
  },
  {
   "cell_type": "markdown",
   "id": "eb9753d5",
   "metadata": {},
   "source": [
    "### Coax cable"
   ]
  },
  {
   "cell_type": "code",
   "execution_count": 87,
   "id": "7144b346",
   "metadata": {},
   "outputs": [
    {
     "data": {
      "text/plain": [
       "1.9685039370078738+/-0.05480229933904268"
      ]
     },
     "execution_count": 87,
     "metadata": {},
     "output_type": "execute_result"
    }
   ],
   "source": [
    "dt = np.sqrt(2) * 10\n",
    "T = ufloat(508*1e-9, dt*1e-9)\n",
    "l = ufloat(50, 0.01)\n",
    "(2*l/T) / 1e8 # in 10^8 m/s"
   ]
  },
  {
   "cell_type": "markdown",
   "id": "109c8979",
   "metadata": {},
   "source": [
    "### Delay cable"
   ]
  },
  {
   "cell_type": "code",
   "execution_count": 88,
   "id": "538fe540",
   "metadata": {},
   "outputs": [
    {
     "data": {
      "text/plain": [
       "5.1123595505617985+/-0.2283604168872041"
      ]
     },
     "execution_count": 88,
     "metadata": {},
     "output_type": "execute_result"
    }
   ],
   "source": [
    "dt_delay = np.sqrt(2) * 50\n",
    "T_delay = ufloat(1.78*1e-6, dt*1e-9)\n",
    "l_delay = ufloat(0.455, 0.02)\n",
    "(2*l_delay/T_delay) / 1e5 # in 10^8 m/s\n",
    "# dt_delay / 1e3"
   ]
  },
  {
   "cell_type": "code",
   "execution_count": 89,
   "id": "d10bc9ab",
   "metadata": {},
   "outputs": [
    {
     "data": {
      "text/plain": [
       "[2.9527559055118116+/-0.08220132771559158,\n",
       " 1.968503937007874+/-0.05480088514372772,\n",
       " 0.984251968503937+/-0.02740044257186386]"
      ]
     },
     "execution_count": 89,
     "metadata": {},
     "output_type": "execute_result"
    }
   ],
   "source": [
    "v_p = (2*l/T)\n",
    "[(v_p / ((i)*l)) / 1e6 for i in [4/3, 2, 4]]"
   ]
  },
  {
   "cell_type": "markdown",
   "id": "ba690fff",
   "metadata": {},
   "source": [
    "## Speed of light"
   ]
  },
  {
   "cell_type": "code",
   "execution_count": 90,
   "id": "2b0e0ba8",
   "metadata": {},
   "outputs": [
    {
     "data": {
      "text/plain": [
       "array([3.913+/-2.766910280439176, 3.3441666666666663+/-1.9582575460078342,\n",
       "       3.4275+/-1.9944355246343737,\n",
       "       2.829642857142857+/-0.5355436445467966,\n",
       "       2.917454545454545+/-0.5575149750798377,\n",
       "       2.7535593220338974+/-0.4863969555493667,\n",
       "       2.857317073170732+/-0.25255293742392126,\n",
       "       2.8130952380952374+/-0.23976487294133655,\n",
       "       2.770930232558139+/-0.22783159576975812], dtype=object)"
      ]
     },
     "execution_count": 90,
     "metadata": {},
     "output_type": "execute_result"
    }
   ],
   "source": [
    "lengths = [3.913, 4.013, 4.113, 7.923, 8.023, 8.123, 11.715, 11.815, 11.915]\n",
    "times = np.array([20, 24, 24, 56, 55, 59, 82, 84, 86]) * 1e-9\n",
    "\n",
    "m = (5-10) / (lengths[-1]-lengths[0])\n",
    "a = 10-m*lengths[0]\n",
    "\n",
    "errTimes = np.array([np.sqrt(2) * abs(m*i+a)  for i in lengths]) * 1e-9\n",
    "d = unumpy.uarray(lengths, np.full(len(lengths), np.sqrt(2) * 0.002))\n",
    "t = unumpy.uarray(times, errTimes)\n",
    "\n",
    "c = (2 * d / t) / 1e8\n",
    "c"
   ]
  },
  {
   "cell_type": "code",
   "execution_count": 91,
   "id": "3fc2b2d7",
   "metadata": {},
   "outputs": [],
   "source": [
    "def weight_avg(data):\n",
    "    weights = 1 / unumpy.std_devs(data)**2\n",
    "    avg = np.sum(unumpy.nominal_values(data)*weights) / np.sum(weights)\n",
    "    std_err = 1 / np.sqrt(np.sum(weights))\n",
    "    return f'{avg} ± {std_err}'"
   ]
  },
  {
   "cell_type": "code",
   "execution_count": 92,
   "id": "ceb21730",
   "metadata": {},
   "outputs": [
    {
     "data": {
      "text/plain": [
       "'2.820283511406525 ± 0.12508596633341607'"
      ]
     },
     "execution_count": 92,
     "metadata": {},
     "output_type": "execute_result"
    }
   ],
   "source": [
    "weight_avg(c)"
   ]
  },
  {
   "cell_type": "code",
   "execution_count": 93,
   "id": "01b14cd1",
   "metadata": {},
   "outputs": [],
   "source": [
    "def dampening(U0, U):\n",
    "    return 20 * log10(U0 / (U0 - U))"
   ]
  },
  {
   "cell_type": "code",
   "execution_count": 94,
   "id": "35d48ac9",
   "metadata": {},
   "outputs": [
    {
     "name": "stdout",
     "output_type": "stream",
     "text": [
      "Dampening 0.9MHz: 3.15+/-0.25 dB\n",
      "Dampening 2.89MHz: 18.4+/-3.0 dB\n",
      "Dampening 1.88MHz: 6.82+/-0.77 dB\n"
     ]
    },
    {
     "data": {
      "text/plain": [
       "0.5559432324187108+/-0.1297672082942505"
      ]
     },
     "execution_count": 94,
     "metadata": {},
     "output_type": "execute_result"
    }
   ],
   "source": [
    "U0 = ufloat(5, 0.05)\n",
    "Us = [ufloat(1.52, 0.1), ufloat(4.4, 0.2), ufloat(2.72, 0.2)]\n",
    "damp = []\n",
    "for i in Us:\n",
    "    value = dampening(U0, i)\n",
    "    damp.append(value)\n",
    "\n",
    "print(f'Dampening 0.9MHz: {damp[0]} dB')\n",
    "print(f'Dampening 2.89MHz: {damp[1]} dB')\n",
    "print(f'Dampening 1.88MHz: {damp[2]:.2f} dB')\n",
    "\n",
    "dampening(U0, ufloat(.31,0.07))"
   ]
  },
  {
   "cell_type": "code",
   "execution_count": 95,
   "id": "e41b079a",
   "metadata": {},
   "outputs": [
    {
     "name": "stdout",
     "output_type": "stream",
     "text": [
      "Er 0.9MHz: 2.54+/-0.27\n",
      "Er 2.89MHz: 2.42+/-0.08\n",
      "Er 1.88MHz: 2.55+/-0.14\n"
     ]
    }
   ],
   "source": [
    "Vs = np.array([ufloat(188,10), ufloat(192.6,3.3), ufloat(187.9,5.0)]) * 1e6\n",
    "Fs = np.array([ufloat(0.941,0.05), ufloat(2.889,0.05), ufloat(1.879,0.05)]) * 1e6\n",
    "Ers = []\n",
    "for i in Vs:\n",
    "    value = constants.c**2 / i**2\n",
    "    Ers.append(value)\n",
    "\n",
    "print(f'Er 0.9MHz: {Ers[0]}')\n",
    "print(f'Er 2.89MHz: {Ers[1]}')\n",
    "print(f'Er 1.88MHz: {Ers[2]:.2f}')"
   ]
  },
  {
   "cell_type": "code",
   "execution_count": 96,
   "id": "865622de",
   "metadata": {},
   "outputs": [
    {
     "data": {
      "image/png": "[encoded data removed]",
      "text/plain": [
       "<Figure size 960x720 with 1 Axes>"
      ]
     },
     "metadata": {},
     "output_type": "display_data"
    }
   ],
   "source": [
    "fig, ax = plt.subplots(dpi=150)\n",
    "\n",
    "plt.rcParams[\"font.family\"] = \"times\"\n",
    "plt.rcParams[\"text.usetex\"] = True\n",
    "\n",
    "\n",
    "ax.errorbar(unumpy.nominal_values(Fs) / 1e6, unumpy.nominal_values(Vs) / 1e6,\n",
    "            capsize=4,\n",
    "            xerr=unumpy.std_devs(Fs) / 1e6, yerr=unumpy.std_devs(Vs) / 1e6,\n",
    "            ecolor='black',\n",
    "            elinewidth=.6,\n",
    "            capthick=.6,\n",
    "            markersize=4, fmt=\"s\",\n",
    "            markeredgecolor='none', c=\"black\",\n",
    "            label=f'Velocity',\n",
    "            zorder=2)\n",
    "# ax.set_xlim(5, 8.5)\n",
    "\n",
    "ax.set_ylabel(r'Velocity [$10^{6}$m/s]', fontsize=12)\n",
    "ax.set_xlabel(r'Frequency [$10^{6}$Hz]', fontsize=12)\n",
    "ax.xaxis.set_minor_locator(AutoMinorLocator(2))\n",
    "ax.yaxis.set_minor_locator(AutoMinorLocator(2))\n",
    "ax.tick_params(axis='x', which='both',direction='in', labelsize=12, width=1, length=2, bottom=True, top=True)\n",
    "ax.tick_params(axis='y', which='both',direction='in', labelsize=12, left=True, right=True)\n",
    "\n",
    "handles, labels = plt.gca().get_legend_handles_labels()\n",
    "order = [0]  \n",
    "\n",
    "plt.legend([handles[idx] for idx in order],\n",
    "        [labels[idx] for idx in order],\n",
    "        loc=\"upper left\",\n",
    "        bbox_to_anchor=(0.1, 0.95),\n",
    "        fancybox=False,\n",
    "        edgecolor='black',\n",
    "        fontsize=10)\n",
    "plt.show()\n",
    "\n",
    "# fig.savefig('/Users/danielmiksch/Library/CloudStorage/OneDrive-Persönlich/Uni/C-Praktikum/C41/dispersion.pdf')"
   ]
  },
  {
   "cell_type": "code",
   "execution_count": 97,
   "id": "f0a3d877",
   "metadata": {},
   "outputs": [
    {
     "data": {
      "image/png": "[encoded data removed]",
      "text/plain": [
       "<Figure size 960x720 with 1 Axes>"
      ]
     },
     "metadata": {},
     "output_type": "display_data"
    }
   ],
   "source": [
    "fig, ax = plt.subplots(dpi=150)\n",
    "\n",
    "plt.rcParams[\"font.family\"] = \"times\"\n",
    "plt.rcParams[\"text.usetex\"] = True\n",
    "\n",
    "\n",
    "ax.errorbar(unumpy.nominal_values(Fs) / 1e6, unumpy.nominal_values(damp),\n",
    "            capsize=4,\n",
    "            xerr=unumpy.std_devs(Fs) / 1e6, yerr=unumpy.std_devs(damp),\n",
    "            ecolor='black',\n",
    "            elinewidth=.6,\n",
    "            capthick=.6,\n",
    "            markersize=4, fmt=\"s\",\n",
    "            markeredgecolor='none', c=\"black\",\n",
    "            label=f'Dampening',\n",
    "            zorder=2)\n",
    "# ax.set_xlim(5, 8.5)\n",
    "\n",
    "ax.set_ylabel(r'Dampening [dB]', fontsize=12)\n",
    "ax.set_xlabel(r'Frequency [$10^{6}$Hz]', fontsize=12)\n",
    "ax.xaxis.set_minor_locator(AutoMinorLocator(2))\n",
    "ax.yaxis.set_minor_locator(AutoMinorLocator(2))\n",
    "ax.tick_params(axis='x', which='both',direction='in', labelsize=12, width=1, length=2, bottom=True, top=True)\n",
    "ax.tick_params(axis='y', which='both',direction='in', labelsize=12, left=True, right=True)\n",
    "\n",
    "handles, labels = plt.gca().get_legend_handles_labels()\n",
    "order = [0]  \n",
    "\n",
    "plt.legend([handles[idx] for idx in order],\n",
    "        [labels[idx] for idx in order],\n",
    "        loc=\"upper left\",\n",
    "        bbox_to_anchor=(0.1, 0.95),\n",
    "        fancybox=False,\n",
    "        edgecolor='black',\n",
    "        fontsize=10)\n",
    "plt.show()\n",
    "\n",
    "fig.savefig('/Users/danielmiksch/Library/CloudStorage/OneDrive-Persönlich/Uni/C-Praktikum/C41/dampening.pdf')"
   ]
  },
  {
   "cell_type": "code",
   "execution_count": 98,
   "id": "fdd2b298",
   "metadata": {},
   "outputs": [],
   "source": [
    "def lin(x, a):\n",
    "    return a*x"
   ]
  },
  {
   "cell_type": "code",
   "execution_count": 111,
   "id": "5412b603",
   "metadata": {},
   "outputs": [
    {
     "name": "stdout",
     "output_type": "stream",
     "text": [
      "Speed of light: (2.9+/-2.5) * 10^8 m/s\n"
     ]
    }
   ],
   "source": [
    "popt, pcov = curve_fit(lin, unumpy.nominal_values(t), unumpy.nominal_values(d) * 2, sigma=unumpy.std_devs(d), absolute_sigma=True)\n",
    "print(f'Speed of light: ({ufloat(popt[0], pcov[0])/1e8:.1f}) * 10^8 m/s')"
   ]
  },
  {
   "cell_type": "code",
   "execution_count": 109,
   "id": "ee41f6ed",
   "metadata": {},
   "outputs": [
    {
     "name": "stdout",
     "output_type": "stream",
     "text": [
      "Beta: [2.82929382e+08]\n",
      "Beta Std Error: [3582016.45307748]\n",
      "Beta Covariance: [[1.57531358e+14]]\n",
      "Residual Variance: 0.08144944622738125\n",
      "Inverse Condition #: 1.0\n",
      "Reason(s) for Halting:\n",
      "  Sum of squares convergence\n"
     ]
    }
   ],
   "source": [
    "def linear(p, x):\n",
    "    B = p\n",
    "    return B*x\n",
    "\n",
    "model_lin = Model(linear)\n",
    "data_lin = RealData(x=unumpy.nominal_values(t), y=unumpy.nominal_values(d) * 2, sx=unumpy.std_devs(t), sy=unumpy.std_devs(d))\n",
    "odrLin = ODR(data_lin, model_lin, beta0=[2.8*1e8])\n",
    "lin_output = odrLin.run()\n",
    "lin_output.pprint()\n"
   ]
  },
  {
   "cell_type": "code",
   "execution_count": 112,
   "id": "1a84fb66",
   "metadata": {},
   "outputs": [
    {
     "data": {
      "image/png": "[encoded data removed]",
      "text/plain": [
       "<Figure size 960x720 with 1 Axes>"
      ]
     },
     "metadata": {},
     "output_type": "display_data"
    }
   ],
   "source": [
    "fig, ax = plt.subplots(dpi=150)\n",
    "\n",
    "plt.rcParams[\"font.family\"] = \"times\"\n",
    "plt.rcParams[\"text.usetex\"] = True\n",
    "\n",
    "x = np.linspace(0,100,1000)\n",
    "\n",
    "ax.errorbar(unumpy.nominal_values(t) * 1e9, unumpy.nominal_values(d) * 2,\n",
    "            capsize=4,\n",
    "            xerr=unumpy.std_devs(t) * 1e9, yerr=unumpy.std_devs(d),\n",
    "            ecolor='black',\n",
    "            elinewidth=.6,\n",
    "            capthick=.6,\n",
    "            markersize=4, fmt=\"s\",\n",
    "            markeredgecolor='none', c=\"black\",\n",
    "            label=f'Distance traveled by light',\n",
    "            zorder=2)\n",
    "\n",
    "ax.set_xlim(0, 100)\n",
    "ax.set_ylim(0, 25)\n",
    "\n",
    "ax.plot(x, lin(x, popt[0]) / 1e9,\n",
    "        c='red',\n",
    "        linewidth=.8,\n",
    "        label='Linear fit',\n",
    "        zorder=3)\n",
    "ax.plot(x, lin(x, constants.c) / 1e9,\n",
    "        c='blue',\n",
    "        linewidth=.8,\n",
    "        label='Theoretical speed of light in air',\n",
    "        zorder=3)\n",
    "\n",
    "ax.set_ylabel(r'Distance traveled [m]', fontsize=12)\n",
    "ax.set_xlabel(r'Time [ns]', fontsize=12)\n",
    "ax.xaxis.set_minor_locator(AutoMinorLocator(2))\n",
    "ax.yaxis.set_minor_locator(AutoMinorLocator(2))\n",
    "ax.tick_params(axis='x', which='both',direction='in', labelsize=12, width=1, length=2, bottom=True, top=True)\n",
    "ax.tick_params(axis='y', which='both',direction='in', labelsize=12, left=True, right=True)\n",
    "\n",
    "handles, labels = plt.gca().get_legend_handles_labels()\n",
    "order = [2,1,0]  \n",
    "\n",
    "plt.legend([handles[idx] for idx in order],\n",
    "        [labels[idx] for idx in order],\n",
    "        loc=\"upper left\",\n",
    "        bbox_to_anchor=(0.02, 0.98),\n",
    "        fancybox=False,\n",
    "        edgecolor='black',\n",
    "        fontsize=10)\n",
    "plt.show()\n",
    "\n",
    "fig.savefig('/Users/danielmiksch/Library/CloudStorage/OneDrive-Persönlich/Uni/C-Praktikum/C41/SoL.pdf')"
   ]
  },
  {
   "cell_type": "code",
   "execution_count": 132,
   "id": "7c882d10",
   "metadata": {},
   "outputs": [],
   "source": [
    "rho = 2.6795 * 1e3\n",
    "c11 = 1.068 * 1e11\n",
    "c12 = 0.607 * 1e11\n",
    "c44 = 0.282 * 1e11\n",
    "phi1 = np.radians(0)\n",
    "phi2 = np.radians(45)"
   ]
  },
  {
   "cell_type": "code",
   "execution_count": 133,
   "id": "4404ce2a",
   "metadata": {},
   "outputs": [],
   "source": [
    "v3 = np.sqrt(c44/rho)\n",
    "v2_phi0 = 1/(2*np.sqrt(rho)) * (2*(c11+c44) - np.sqrt(2)*((1+np.cos(4*phi1))*c11**2+2*np.sin(2*phi1)**2*c12**2+4*c44*(np.sin(2*phi1)**2*c12-np.cos(2*phi1)**2*c11)+2*c44**2)**0.5)**0.5\n",
    "v1_phi0 = 1/(2*np.sqrt(rho)) * (2*(c11+c44) + np.sqrt(2)*((1+np.cos(4*phi1))*c11**2+2*np.sin(2*phi1)**2*c12**2+4*c44*(np.sin(2*phi1)**2*c12-np.cos(2*phi1)**2*c11)+2*c44**2)**0.5)**0.5"
   ]
  },
  {
   "cell_type": "code",
   "execution_count": 134,
   "id": "8102f00d",
   "metadata": {},
   "outputs": [],
   "source": [
    "v2_phi45 = 1/(2*np.sqrt(rho)) * (2*(c11+c44) - np.sqrt(2)*((1+np.cos(4*phi2))*c11**2+2*np.sin(2*phi2)**2*c12**2+4*c44*(np.sin(2*phi2)**2*c12-np.cos(2*phi2)**2*c11)+2*c44**2)**0.5)**0.5\n",
    "v1_phi45 = 1/(2*np.sqrt(rho)) * (2*(c11+c44) + np.sqrt(2)*((1+np.cos(4*phi2))*c11**2+2*np.sin(2*phi2)**2*c12**2+4*c44*(np.sin(2*phi2)**2*c12-np.cos(2*phi2)**2*c11)+2*c44**2)**0.5)**0.5"
   ]
  },
  {
   "cell_type": "code",
   "execution_count": 135,
   "id": "c1fba2f3",
   "metadata": {},
   "outputs": [
    {
     "name": "stdout",
     "output_type": "stream",
     "text": [
      "v longitudinal (0°) = 6313.333707062733 m/s\n",
      "v longitudinal (45°) = 6463.759190280716 m/s\n",
      "\n",
      "v transversal 1 (0°) = 3244.1257001118984 m/s\n",
      "v transversal 1 (45°) = 2932.9765060297636 m/s\n",
      "\n",
      "v transversal 2 = 3244.1257001118984 m/s\n"
     ]
    }
   ],
   "source": [
    "print(f'v longitudinal (0°) = {v1_phi0} m/s')\n",
    "print(f'v longitudinal (45°) = {v1_phi45} m/s')\n",
    "print()\n",
    "print(f'v transversal 1 (0°) = {v2_phi0} m/s')\n",
    "print(f'v transversal 1 (45°) = {v2_phi45} m/s')\n",
    "print()\n",
    "print(f'v transversal 2 = {v3} m/s')"
   ]
  },
  {
   "cell_type": "code",
   "execution_count": 141,
   "id": "9608d5eb",
   "metadata": {},
   "outputs": [],
   "source": [
    "beta90 = np.radians(90)\n",
    "beta45 = np.radians(45)\n",
    "cw = 1476.4885251163537\n",
    "alpha_long = np.arcsin(np.sin(beta90)*(cw/v1_phi45))\n",
    "alpha_trans45 = np.arcsin(np.sin(beta45)*(cw/v2_phi0))\n",
    "alpha_trans90 = np.arcsin(np.sin(beta90)*(cw/v3))"
   ]
  },
  {
   "cell_type": "code",
   "execution_count": 142,
   "id": "47532869",
   "metadata": {},
   "outputs": [
    {
     "name": "stdout",
     "output_type": "stream",
     "text": [
      "α long = 13.204402076309188°\n",
      "α trans 45° = 18.773222691612816°\n",
      "α trans 90° = 27.07309259229931°\n"
     ]
    }
   ],
   "source": [
    "print(f'α long = {np.degrees(alpha_long)}°')\n",
    "print(f'α trans 45° = {np.degrees(alpha_trans45)}°')\n",
    "print(f'α trans 90° = {np.degrees(alpha_trans90)}°')"
   ]
  },
  {
   "cell_type": "code",
   "execution_count": null,
   "id": "22958b01",
   "metadata": {},
   "outputs": [],
   "source": []
  }
 ],
 "metadata": {
  "kernelspec": {
   "display_name": "Python 3",
   "language": "python",
   "name": "python3"
  },
  "language_info": {
   "codemirror_mode": {
    "name": "ipython",
    "version": 3
   },
   "file_extension": ".py",
   "mimetype": "text/x-python",
   "name": "python",
   "nbconvert_exporter": "python",
   "pygments_lexer": "ipython3",
   "version": "3.10.10"
  }
 },
 "nbformat": 4,
 "nbformat_minor": 5
}
