{
 "cells": [
  {
   "cell_type": "code",
   "execution_count": 10,
   "id": "initial_id",
   "metadata": {
    "ExecuteTime": {
     "end_time": "2023-11-19T17:10:09.268617Z",
     "start_time": "2023-11-19T17:10:09.073487Z"
    },
    "collapsed": true
   },
   "outputs": [],
   "source": [
    "import numpy as np\n",
    "import pandas as pd\n",
    "import glob\n",
    "import matplotlib.pyplot as plt\n",
    "from uncertainties import ufloat, unumpy\n",
    "from scipy.odr import ODR, Model, RealData\n",
    "from scipy.optimize import fsolve\n",
    "from matplotlib.ticker import AutoMinorLocator"
   ]
  },
  {
   "cell_type": "markdown",
   "id": "f1c89497",
   "metadata": {},
   "source": [
    "### Data Loader"
   ]
  },
  {
   "cell_type": "code",
   "execution_count": 4,
   "id": "acab1f1e",
   "metadata": {},
   "outputs": [],
   "source": [
    "def load_data(path):\n",
    "    np.set_printoptions(suppress=True, precision=10)\n",
    "    data_list = sorted(glob.glob(path))\n",
    "    data_np = []\n",
    "    for i in data_list:\n",
    "        data = pd.read_csv(i, sep=',')\n",
    "        data_np.append(data.to_numpy())\n",
    "    return data_np"
   ]
  },
  {
   "cell_type": "code",
   "execution_count": 5,
   "id": "c4591140",
   "metadata": {},
   "outputs": [],
   "source": [
    "path_planck = '/Users/danielmiksch/Library/CloudStorage/OneDrive-Persönlich/Uni/C-Praktikum/C45/Planck/*.csv'\n",
    "data366, data405, data436, data546, data578 = load_data(path=path_planck)"
   ]
  },
  {
   "cell_type": "markdown",
   "id": "ef963330faa662b5",
   "metadata": {
    "collapsed": false
   },
   "source": [
    "# Measuring the Planck constant"
   ]
  },
  {
   "cell_type": "markdown",
   "id": "d3eee1eb",
   "metadata": {},
   "source": [
    "## Custom functions"
   ]
  },
  {
   "cell_type": "code",
   "execution_count": 94,
   "id": "20bacf20",
   "metadata": {},
   "outputs": [],
   "source": [
    "def exp(p, x):\n",
    "    A, B, C, U = p\n",
    "    return A+B*(np.exp(C*(x-U)-1))\n",
    "\n",
    "def lin(p, x):\n",
    "    A, M, U = p\n",
    "    return A+M*(x-U)\n",
    "\n",
    "def calc_sx(data, range):\n",
    "    return 0.00025*abs(data)+0.00005*range\n",
    "\n",
    "def err_x0(beta_exp, beta_lin, cov_lin): #error is calculated using the absoult maximum of the difference of the actual intersection point between exp and lin+/- error of the\n",
    "    x0s = []\n",
    "    for i in [beta_lin, beta_lin + cov_lin[1], beta_lin - cov_lin[1]]:\n",
    "        def diff(x):\n",
    "            return exp(beta_exp, x) - lin(i, x)\n",
    "        x0s.append(fsolve(diff, -1.3))\n",
    "    dx0 = np.max([abs(x0s[0]-x0s[1]), abs(x0s[0]-x0s[2])])\n",
    "    return dx0\n",
    "\n",
    "\n",
    "\n",
    "def piecewise(data, threshold, intersection, betaLin, betaExp, mark=False, print_beta=False): #x, y, sx, sy\n",
    "    modelExp = Model(exp)\n",
    "    modelLin = Model(lin)\n",
    "    dataLin = RealData(data[0][:threshold], data[1][:threshold], sx=data[2][:threshold], sy=data[3][:threshold])\n",
    "    dataExp = RealData(data[0][threshold:], data[1][threshold:], sx=data[2][threshold:], sy=data[3][threshold:])\n",
    "    odrExp = ODR(dataExp, modelExp, beta0=betaExp)\n",
    "    odrLin = ODR(dataLin, modelLin, beta0=betaLin)\n",
    "    outputExp = odrExp.run()\n",
    "    outputLin = odrLin.run()\n",
    "    def diff(x):\n",
    "        return exp(outputExp.beta, x) - lin(outputLin.beta, x)\n",
    "    x0 = fsolve(diff, intersection)\n",
    "    sx0 = err_x0(outputExp.beta, outputLin.beta, outputLin.sd_beta)\n",
    "    if print_beta:\n",
    "        print('Linear:')\n",
    "        outputLin.pprint()\n",
    "        print()\n",
    "        print('Exponential:')\n",
    "        outputExp.pprint()\n",
    "    if mark:\n",
    "        x_plot = np.linspace(np.min(data[0]), np.max(data[0]), 1000)\n",
    "        plt.scatter(x0, exp(outputExp.beta, x0), c='lime', zorder=3)\n",
    "        plt.scatter(data[0][:threshold], data[1][:threshold], c='red', s=8)\n",
    "        plt.scatter(data[0][threshold:], data[1][threshold:], c='blue', s=8)\n",
    "        plt.plot(x_plot, exp(outputExp.beta, x_plot), c='blue', linewidth=.8)\n",
    "        plt.plot(x_plot, lin(outputLin.beta, x_plot), c='red', linewidth=.8)\n",
    "    \n",
    "    return outputLin.beta, outputExp.beta, x0, sx0\n",
    "\n",
    "def plot_planck(data_fit, realData, wavelength, name, save=False, hide=False):\n",
    "    fig, ax = plt.subplots(dpi=150)\n",
    "\n",
    "    plt.rcParams[\"font.family\"] = \"times\"\n",
    "    plt.rcParams[\"text.usetex\"] = True\n",
    "\n",
    "    x_lin = np.linspace(min(realData[0]), data_fit[2], 1000)\n",
    "    x_exp = np.linspace(data_fit[2], max(realData[0])+.1, 1000)\n",
    "\n",
    "    ax.errorbar(realData[0], realData[1],\n",
    "                xerr=realData[2], yerr=realData[3],\n",
    "                capsize=4,\n",
    "                ecolor='black',\n",
    "                elinewidth=.6,\n",
    "                capthick=.6,\n",
    "                markersize=4, fmt=\"s\",\n",
    "                markeredgecolor='none', c=\"black\",\n",
    "                label=f'Photocurrent at $\\lambda$={wavelength}nm',\n",
    "                zorder=2)\n",
    "    ax.plot(x_lin, lin(data_fit[0], x_lin),\n",
    "            c='red',\n",
    "            linewidth=.8,\n",
    "            label='Piecewise fit',\n",
    "            zorder=3)\n",
    "    ax.plot(x_exp, exp(data_fit[1], x_exp),\n",
    "            c='red',\n",
    "            linewidth=.8,\n",
    "            zorder=3)\n",
    "    for i in [data_fit[2]+data_fit[3], data_fit[2]-data_fit[3]]:\n",
    "        ax.axvline(i,\n",
    "                color='grey',\n",
    "                linestyle='--',\n",
    "                linewidth=0.8,\n",
    "                zorder=3)\n",
    "    ax.axvline(data_fit[2],\n",
    "                color='grey',\n",
    "                linestyle='-',\n",
    "                linewidth=0.8,\n",
    "                zorder=3)\n",
    "    ax.set_ylabel('Anode current [nA]', fontsize=12)\n",
    "    ax.set_xlabel('Counter voltage [V]', fontsize=12)\n",
    "    ax.xaxis.set_minor_locator(AutoMinorLocator(2))\n",
    "    ax.yaxis.set_minor_locator(AutoMinorLocator(2))\n",
    "    ax.tick_params(axis='x', which='both',direction='in', labelsize=12, width=1, length=2, bottom=True, top=True)\n",
    "    ax.tick_params(axis='y', which='both',direction='in', labelsize=12, left=True, right=True)\n",
    "\n",
    "    plt.annotate(f'{data_fit[2][0]:.3f}', xy=(data_fit[2], ax.get_ylim()[1]), ha='center', va='bottom')\n",
    "\n",
    "    handles, labels = plt.gca().get_legend_handles_labels()\n",
    "    order = [1, 0]  \n",
    "\n",
    "    plt.legend([handles[idx] for idx in order],\n",
    "           [labels[idx] for idx in order],\n",
    "           loc=\"upper left\",\n",
    "           bbox_to_anchor=(0.02, 0.98),\n",
    "           fancybox=False,\n",
    "           edgecolor='black',\n",
    "           fontsize=10)\n",
    "    if hide:\n",
    "        plt.close()\n",
    "    if save:\n",
    "        fig.savefig(f'/Users/danielmiksch/Downloads/{name}.pdf')"
   ]
  },
  {
   "cell_type": "markdown",
   "id": "f2b2bd2d",
   "metadata": {},
   "source": [
    "## Fits"
   ]
  },
  {
   "cell_type": "code",
   "execution_count": 7,
   "id": "bbfb8751",
   "metadata": {},
   "outputs": [],
   "source": [
    "data_fits = []\n",
    "for i in [data366, data405, data436, data546, data578]:\n",
    "    x, y, sy, sx = i[:,0], i[:,1], i[:,2], calc_sx(i[:,0], 10)\n",
    "    data_fits.append([x, y, sx, sy])"
   ]
  },
  {
   "cell_type": "code",
   "execution_count": 42,
   "id": "ef6b0e66",
   "metadata": {},
   "outputs": [
    {
     "name": "stderr",
     "output_type": "stream",
     "text": [
      "/var/folders/_s/ymfv76ms5rs0hd9l43mh92_80000gn/T/ipykernel_42299/717070417.py:3: RuntimeWarning: overflow encountered in exp\n",
      "  return A+B*(np.exp(C*(x-U)-1))\n"
     ]
    }
   ],
   "source": [
    "fit366 =  piecewise(data_fits[0], 7, -1.3, betaLin=[1,1,1], betaExp=[1,1,1,-1], mark=False, print_beta=False) #data366\n",
    "fit405 = piecewise(data_fits[1], 10, -1.3, betaLin=[1,1,1], betaExp=[0,.5,1,-1.39], mark=False, print_beta=False) #data405\n",
    "fit436 = piecewise(data_fits[2], 10, -1.3, betaLin=[1,1,1], betaExp=[0,.5,1,-1.39], mark=False, print_beta=False) #data436\n",
    "fit546 = piecewise(data_fits[3], 10, -1.3, betaLin=[1,1,1], betaExp=[0,.5,1,-1.39], mark=False, print_beta=False) #data546\n",
    "fit578 = piecewise(data_fits[4], 13, -.5, betaLin=[1,1,1], betaExp=[0,1,0,0], mark=False, print_beta=False) #data578\n",
    "\n",
    "breakingVoltage = np.array([f'{i[2][0]}+/-{i[3]} V' for i in [fit366, fit405, fit436, fit546, fit578]])"
   ]
  },
  {
   "cell_type": "markdown",
   "id": "6510ee1e",
   "metadata": {},
   "source": [
    "## Plots"
   ]
  },
  {
   "cell_type": "code",
   "execution_count": 97,
   "id": "aa8b86e7",
   "metadata": {},
   "outputs": [],
   "source": [
    "plot_planck(fit366, data_fits[0], 366, 'fit366', save=False, hide=True,)\n",
    "plot_planck(fit405, data_fits[1], 405, 'fit405', save=False, hide=True,)\n",
    "plot_planck(fit436, data_fits[2], 436, 'fit436', save=False, hide=True,)\n",
    "plot_planck(fit546, data_fits[3], 546, 'fit546', save=False, hide=True,)\n",
    "plot_planck(fit578, data_fits[4], 578, 'fit578', save=False, hide=True,)"
   ]
  }
 ],
 "metadata": {
  "kernelspec": {
   "display_name": "Python 3",
   "language": "python",
   "name": "python3"
  },
  "language_info": {
   "codemirror_mode": {
    "name": "ipython",
    "version": 3
   },
   "file_extension": ".py",
   "mimetype": "text/x-python",
   "name": "python",
   "nbconvert_exporter": "python",
   "pygments_lexer": "ipython3",
   "version": "3.10.10"
  }
 },
 "nbformat": 4,
 "nbformat_minor": 5
}
