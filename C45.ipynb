{
 "cells": [
  {
   "cell_type": "code",
   "execution_count": 20,
   "id": "initial_id",
   "metadata": {
    "ExecuteTime": {
     "end_time": "2023-11-19T17:10:09.268617Z",
     "start_time": "2023-11-19T17:10:09.073487Z"
    },
    "collapsed": true
   },
   "outputs": [],
   "source": [
    "import numpy as np\n",
    "import pandas as pd\n",
    "import glob\n",
    "import matplotlib.pyplot as plt\n",
    "from uncertainties import ufloat, unumpy"
   ]
  },
  {
   "cell_type": "markdown",
   "id": "f1c89497",
   "metadata": {},
   "source": [
    "### Data Loader"
   ]
  },
  {
   "cell_type": "code",
   "execution_count": 35,
   "id": "acab1f1e",
   "metadata": {},
   "outputs": [],
   "source": [
    "def load_data(path):\n",
    "    np.set_printoptions(suppress=True, precision=10)\n",
    "    data_list = glob.glob(path)\n",
    "    data_np = []\n",
    "    for i in data_list:\n",
    "        data = pd.read_csv(i, sep=',')\n",
    "        data_np.append(data.to_numpy())\n",
    "    return data_np"
   ]
  },
  {
   "cell_type": "markdown",
   "id": "ef963330faa662b5",
   "metadata": {
    "collapsed": false
   },
   "source": [
    "# Measuring the Planck constant"
   ]
  },
  {
   "cell_type": "markdown",
   "id": "b07915fb",
   "metadata": {},
   "source": [
    "### Data"
   ]
  },
  {
   "cell_type": "code",
   "execution_count": 39,
   "id": "60167143",
   "metadata": {},
   "outputs": [],
   "source": [
    "path = '/Users/danielmiksch/Library/CloudStorage/OneDrive-Persönlich/Uni/C-Praktikum/C45/Planck/*.csv'\n",
    "data365, data405 = load_data(path=path)"
   ]
  },
  {
   "cell_type": "markdown",
   "id": "d3eee1eb",
   "metadata": {},
   "source": [
    "### Piecewise fittinf function"
   ]
  },
  {
   "cell_type": "code",
   "execution_count": null,
   "id": "20bacf20",
   "metadata": {},
   "outputs": [],
   "source": [
    "def piecewise():\n",
    "    return None"
   ]
  },
  {
   "cell_type": "code",
   "execution_count": 42,
   "id": "f2b2bd2d",
   "metadata": {},
   "outputs": [
    {
     "data": {
      "text/plain": [
       "' fig, ax = plt.subplots()\\n\\nax.scatter(data365[:,0], data365[:,1]) '"
      ]
     },
     "execution_count": 42,
     "metadata": {},
     "output_type": "execute_result"
    }
   ],
   "source": [
    "fig, ax = plt.subplots()\n",
    "\n",
    "ax.scatter(data365[:,0], data365[:,1])"
   ]
  },
  {
   "cell_type": "code",
   "execution_count": null,
   "id": "aa8b86e7",
   "metadata": {},
   "outputs": [],
   "source": [
    "fig, ax = plt.subplots(dpi=150)\n",
    "\n",
    "ax.plot(x * 100, lorentzian_odr(output.beta, x),\n",
    "         c='blue',\n",
    "         linewidth=.8,\n",
    "         label='Anpassung nach Lorentz',\n",
    "         zorder=2)\n",
    "ax.errorbar(plot_lense_x * 100, plot_lense_y,\n",
    "            xerr=None, yerr=d_y_plot,\n",
    "            capsize=4,\n",
    "            ecolor='black',\n",
    "            elinewidth=.6,\n",
    "            capthick=.6,\n",
    "            markersize=4, fmt=\"s\",\n",
    "            markeredgecolor='none', c=\"black\",\n",
    "            label='Intensität hinter Wachslinse',\n",
    "            zorder=2)\n",
    "\n",
    "ax.set_ylabel('$U$ [V]', fontsize=12)\n",
    "ax.set_xlabel('$d$ [cm]', fontsize=12)\n",
    "ax.set_xlim(45, 105)\n",
    "ax.set_ylim(0.3, 0.75)\n",
    "\n",
    "ax.axvline(output.beta[1] * 100,\n",
    "           color='grey',\n",
    "           linestyle='--',\n",
    "           linewidth=0.8,\n",
    "           label=f'Maximum bei $d={output.beta[1]*100:.2f}$ cm',\n",
    "           zorder=1)\n",
    "\n",
    "ax.xaxis.set_minor_locator(AutoMinorLocator(2))\n",
    "ax.yaxis.set_minor_locator(AutoMinorLocator(2))\n",
    "plt.tick_params(which='minor',direction='in', labelsize=8, width=1, length=2)\n",
    "plt.tick_params(which='major',direction='in', labelsize=12)\n",
    "\n",
    "plt.legend(loc=\"upper left\", bbox_to_anchor=(0.55, 0.25), fancybox=False, edgecolor='black', fontsize=9)\n",
    "plt.show()\n",
    "\n",
    "fig.savefig(\"/Users/danielmiksch/Downloads/plot_brennweite.pdf\")"
   ]
  }
 ],
 "metadata": {
  "kernelspec": {
   "display_name": "Python 3",
   "language": "python",
   "name": "python3"
  },
  "language_info": {
   "codemirror_mode": {
    "name": "ipython",
    "version": 3
   },
   "file_extension": ".py",
   "mimetype": "text/x-python",
   "name": "python",
   "nbconvert_exporter": "python",
   "pygments_lexer": "ipython3",
   "version": "3.10.10"
  }
 },
 "nbformat": 4,
 "nbformat_minor": 5
}
