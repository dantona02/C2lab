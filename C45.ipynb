{
 "cells": [
  {
   "cell_type": "code",
   "execution_count": 45,
   "id": "initial_id",
   "metadata": {
    "ExecuteTime": {
     "end_time": "2023-11-19T17:10:09.268617Z",
     "start_time": "2023-11-19T17:10:09.073487Z"
    },
    "collapsed": true
   },
   "outputs": [],
   "source": [
    "import numpy as np\n",
    "import pandas as pd\n",
    "import glob\n",
    "import matplotlib.pyplot as plt\n",
    "from uncertainties import ufloat, unumpy\n",
    "from scipy.odr import ODR, Model, RealData"
   ]
  },
  {
   "cell_type": "markdown",
   "id": "f1c89497",
   "metadata": {},
   "source": [
    "### Data Loader"
   ]
  },
  {
   "cell_type": "code",
   "execution_count": 43,
   "id": "acab1f1e",
   "metadata": {},
   "outputs": [],
   "source": [
    "def load_data(path):\n",
    "    np.set_printoptions(suppress=True, precision=10)\n",
    "    data_list = glob.glob(path)\n",
    "    data_np = []\n",
    "    for i in data_list:\n",
    "        data = pd.read_csv(i, sep=',')\n",
    "        data_np.append(data.to_numpy())\n",
    "    return data_np"
   ]
  },
  {
   "cell_type": "code",
   "execution_count": 44,
   "id": "c4591140",
   "metadata": {},
   "outputs": [],
   "source": [
    "path_planck = '/Users/danielmiksch/Library/CloudStorage/OneDrive-Persönlich/Uni/C-Praktikum/C45/Planck/*.csv'\n",
    "data365, data405 = load_data(path=path_planck)"
   ]
  },
  {
   "cell_type": "markdown",
   "id": "ef963330faa662b5",
   "metadata": {
    "collapsed": false
   },
   "source": [
    "# Measuring the Planck constant"
   ]
  },
  {
   "cell_type": "markdown",
   "id": "d3eee1eb",
   "metadata": {},
   "source": [
    "## Piecewise fitting function"
   ]
  },
  {
   "cell_type": "code",
   "execution_count": 79,
   "id": "20bacf20",
   "metadata": {},
   "outputs": [],
   "source": [
    "def exp(p, x):\n",
    "    A, B, C, U = p\n",
    "    return A+B*(np.exp(C*(x-U)-1))\n",
    "\n",
    "def lin(p, x):\n",
    "    A, M, U = p\n",
    "    return A+M*(x-U)\n",
    "\n",
    "def calc_sx(data, range):\n",
    "    return 0.00025*abs(data)+0.00005*range\n",
    "\n",
    "\n",
    "def piecewise(x, y, sx, sy, threshold, betaLin, betaExp, mark=False, print_beta=False):\n",
    "    modelExp = Model(exp)\n",
    "    modelLin = Model(lin)\n",
    "    dataLin = RealData(x[:threshold], y[:threshold], sx=sx[:threshold], sy=sy[:threshold])\n",
    "    dataExp = RealData(x[threshold:], y[threshold:], sx=sx[threshold:], sy=sy[threshold:])\n",
    "    odrExp = ODR(dataExp, modelExp, beta0=betaExp)\n",
    "    odrLin = ODR(dataLin, modelLin, beta0=betaLin)\n",
    "    outputExp = odrExp.run()\n",
    "    outputLin = odrLin.run()\n",
    "    if print_beta:\n",
    "        print('Linear:')\n",
    "        outputLin.pprint()\n",
    "        print()\n",
    "        print('Exponential:')\n",
    "        outputExp.pprint()\n",
    "    if mark:\n",
    "        x_plot = np.linspace(np.min(x), np.max(x), 1000)\n",
    "        plt.scatter(x[:threshold], y[:threshold], c='red')\n",
    "        plt.scatter(x[threshold:], y[threshold:], c='blue')\n",
    "        plt.plot(x_plot, exp(outputExp.beta, x_plot), c='blue')\n",
    "        plt.plot(x_plot, lin(outputLin.beta, x_plot), c='red')\n",
    "    \n",
    "    return outputLin.beta, outputExp.beta"
   ]
  },
  {
   "cell_type": "markdown",
   "id": "f2b2bd2d",
   "metadata": {},
   "source": [
    "### 365nm"
   ]
  },
  {
   "cell_type": "code",
   "execution_count": 61,
   "id": "bbfb8751",
   "metadata": {},
   "outputs": [],
   "source": [
    "x, y, sy = data365[:,0], data365[:,1], data365[:,2]\n",
    "sx = calc_sx(data365[:,0], 10)"
   ]
  },
  {
   "cell_type": "code",
   "execution_count": 80,
   "id": "ef6b0e66",
   "metadata": {},
   "outputs": [
    {
     "name": "stdout",
     "output_type": "stream",
     "text": [
      "Linear:\n",
      "Beta: [0.0130659706 0.0140437719 2.6787334608]\n",
      "Beta Std Error: [  30504.2807968304       0.0033940787 2172085.6461356683]\n",
      "Beta Covariance: [[7.6608350194e+06 2.6701738858e-01 5.4549687285e+08]\n",
      " [2.6701738858e-01 9.4841486937e-08 1.9013192726e+01]\n",
      " [5.4549687285e+08 1.9013192726e+01 3.8842611482e+10]]\n",
      "Residual Variance: 121.46341026394907\n",
      "Inverse Condition #: 1.58914374592918e-10\n",
      "Reason(s) for Halting:\n",
      "  Sum of squares convergence\n",
      "\n",
      "Exponential:\n",
      "Beta: [-0.1956521484  0.4781186318  1.8570613761 -1.2859249751]\n",
      "Beta Std Error: [     0.0315060184 442560.0152991114      0.1409363359 498436.9823421343]\n",
      "Beta Covariance: [[1.7638164627e-06 3.7118121624e+00 7.5804333657e-06 4.1804647692e+00]\n",
      " [3.7118121624e+00 3.4802520285e+08 2.0979538339e+01 3.9196634557e+08]\n",
      " [7.5804333657e-06 2.0979538339e+01 3.5294928071e-05 2.3628404394e+01]\n",
      " [4.1804647692e+00 3.9196634557e+08 2.3628404394e+01 4.4145543137e+08]]\n",
      "Residual Variance: 562.773516213359\n",
      "Inverse Condition #: 8.311157669361698e-09\n",
      "Reason(s) for Halting:\n",
      "  Sum of squares convergence\n"
     ]
    },
    {
     "data": {
      "text/plain": [
       "(array([0.0130659706, 0.0140437719, 2.6787334608]),\n",
       " array([-0.1956521484,  0.4781186318,  1.8570613761, -1.2859249751]))"
      ]
     },
     "execution_count": 80,
     "metadata": {},
     "output_type": "execute_result"
    },
    {
     "data": {
      "image/png": "[encoded data removed]",
      "text/plain": [
       "<Figure size 640x480 with 1 Axes>"
      ]
     },
     "metadata": {},
     "output_type": "display_data"
    }
   ],
   "source": [
    "piecewise(x, y, sx, sy, 12, betaLin=[1,1,1], betaExp=[0,.5,1,-1.39], mark=True, print_beta=True)"
   ]
  },
  {
   "cell_type": "markdown",
   "id": "6510ee1e",
   "metadata": {},
   "source": [
    "## Plots"
   ]
  },
  {
   "cell_type": "code",
   "execution_count": null,
   "id": "aa8b86e7",
   "metadata": {},
   "outputs": [],
   "source": [
    "fig, ax = plt.subplots(dpi=150)\n",
    "\n",
    "ax.plot(x * 100, lorentzian_odr(output.beta, x),\n",
    "         c='blue',\n",
    "         linewidth=.8,\n",
    "         label='Anpassung nach Lorentz',\n",
    "         zorder=2)\n",
    "ax.errorbar(plot_lense_x * 100, plot_lense_y,\n",
    "            xerr=None, yerr=d_y_plot,\n",
    "            capsize=4,\n",
    "            ecolor='black',\n",
    "            elinewidth=.6,\n",
    "            capthick=.6,\n",
    "            markersize=4, fmt=\"s\",\n",
    "            markeredgecolor='none', c=\"black\",\n",
    "            label='Intensität hinter Wachslinse',\n",
    "            zorder=2)\n",
    "\n",
    "ax.set_ylabel('$U$ [V]', fontsize=12)\n",
    "ax.set_xlabel('$d$ [cm]', fontsize=12)\n",
    "ax.set_xlim(45, 105)\n",
    "ax.set_ylim(0.3, 0.75)\n",
    "\n",
    "ax.axvline(output.beta[1] * 100,\n",
    "           color='grey',\n",
    "           linestyle='--',\n",
    "           linewidth=0.8,\n",
    "           label=f'Maximum bei $d={output.beta[1]*100:.2f}$ cm',\n",
    "           zorder=1)\n",
    "\n",
    "ax.xaxis.set_minor_locator(AutoMinorLocator(2))\n",
    "ax.yaxis.set_minor_locator(AutoMinorLocator(2))\n",
    "plt.tick_params(which='minor',direction='in', labelsize=8, width=1, length=2)\n",
    "plt.tick_params(which='major',direction='in', labelsize=12)\n",
    "\n",
    "plt.legend(loc=\"upper left\", bbox_to_anchor=(0.55, 0.25), fancybox=False, edgecolor='black', fontsize=9)\n",
    "plt.show()\n",
    "\n",
    "fig.savefig(\"/Users/danielmiksch/Downloads/plot_brennweite.pdf\")"
   ]
  }
 ],
 "metadata": {
  "kernelspec": {
   "display_name": "Python 3",
   "language": "python",
   "name": "python3"
  },
  "language_info": {
   "codemirror_mode": {
    "name": "ipython",
    "version": 3
   },
   "file_extension": ".py",
   "mimetype": "text/x-python",
   "name": "python",
   "nbconvert_exporter": "python",
   "pygments_lexer": "ipython3",
   "version": "3.10.10"
  }
 },
 "nbformat": 4,
 "nbformat_minor": 5
}
