{
 "cells": [
  {
   "cell_type": "code",
   "execution_count": 5,
   "id": "initial_id",
   "metadata": {
    "ExecuteTime": {
     "end_time": "2023-11-19T17:10:09.268617Z",
     "start_time": "2023-11-19T17:10:09.073487Z"
    },
    "collapsed": true
   },
   "outputs": [],
   "source": [
    "import numpy as np\n",
    "import pandas as pd\n",
    "import glob\n",
    "import matplotlib.pyplot as plt\n",
    "import uncertainties\n",
    "from uncertainties import ufloat, unumpy\n",
    "from uncertainties.umath import log\n",
    "from scipy.odr import ODR, Model, RealData\n",
    "from scipy.optimize import fsolve, curve_fit\n",
    "from matplotlib.ticker import AutoMinorLocator, LogLocator\n",
    "from scipy import constants"
   ]
  },
  {
   "cell_type": "markdown",
   "id": "f1c89497",
   "metadata": {},
   "source": [
    "### Data Loader"
   ]
  },
  {
   "cell_type": "code",
   "execution_count": 6,
   "id": "acab1f1e",
   "metadata": {},
   "outputs": [],
   "source": [
    "def load_data(path):\n",
    "    np.set_printoptions(suppress=True, precision=10)\n",
    "    data_list = sorted(glob.glob(path))\n",
    "    data_np = []\n",
    "    for i in data_list:\n",
    "        data = pd.read_csv(i, sep=',')\n",
    "        data_np.append(data.to_numpy())\n",
    "    return data_np"
   ]
  },
  {
   "cell_type": "code",
   "execution_count": 7,
   "id": "c4591140",
   "metadata": {},
   "outputs": [],
   "source": [
    "path_planck = '/Users/danielmiksch/Library/CloudStorage/OneDrive-Persönlich/Uni/C-Praktikum/C45/Planck/*.csv'\n",
    "data366, data405, data436, data546, data578 = load_data(path=path_planck)"
   ]
  },
  {
   "cell_type": "markdown",
   "id": "ef963330faa662b5",
   "metadata": {
    "collapsed": false
   },
   "source": [
    "# Measuring the Planck constant"
   ]
  },
  {
   "cell_type": "markdown",
   "id": "d3eee1eb",
   "metadata": {},
   "source": [
    "## Custom functions"
   ]
  },
  {
   "cell_type": "code",
   "execution_count": 8,
   "id": "20bacf20",
   "metadata": {},
   "outputs": [],
   "source": [
    "def exp(p, x):\n",
    "    A, B, C, U = p\n",
    "    return A+B*(np.exp(C*(x-U)-1))\n",
    "\n",
    "def lin(p, x):\n",
    "    A, M, U = p\n",
    "    return A+M*(x-U)\n",
    "\n",
    "def calc_sx(data, range):\n",
    "    return 0.00025*abs(data)+0.00005*range\n",
    "\n",
    "def err_x0(beta_exp, beta_lin, cov_lin): #error is calculated using the absoult maximum of the difference of the actual intersection point between exp and lin+/- error of the\n",
    "    x0s = []\n",
    "    for i in [beta_lin, beta_lin + cov_lin[1], beta_lin - cov_lin[1]]:\n",
    "        def diff(x):\n",
    "            return exp(beta_exp, x) - lin(i, x)\n",
    "        x0s.append(fsolve(diff, -1.3))\n",
    "    dx0 = np.max([abs(x0s[0]-x0s[1]), abs(x0s[0]-x0s[2])])\n",
    "    return dx0\n",
    "\n",
    "\n",
    "\n",
    "def piecewise(data, threshold, intersection, betaLin, betaExp, mark=False, print_beta=False): #x, y, sx, sy\n",
    "    modelExp = Model(exp)\n",
    "    modelLin = Model(lin)\n",
    "    dataLin = RealData(data[0][:threshold], data[1][:threshold], sx=data[2][:threshold], sy=data[3][:threshold])\n",
    "    dataExp = RealData(data[0][threshold:], data[1][threshold:], sx=data[2][threshold:], sy=data[3][threshold:])\n",
    "    odrExp = ODR(dataExp, modelExp, beta0=betaExp)\n",
    "    odrLin = ODR(dataLin, modelLin, beta0=betaLin)\n",
    "    outputExp = odrExp.run()\n",
    "    outputLin = odrLin.run()\n",
    "    def diff(x):\n",
    "        return exp(outputExp.beta, x) - lin(outputLin.beta, x)\n",
    "    x0 = fsolve(diff, intersection)\n",
    "    sx0 = err_x0(outputExp.beta, outputLin.beta, outputLin.sd_beta)\n",
    "    if print_beta:\n",
    "        print('Linear:')\n",
    "        outputLin.pprint()\n",
    "        print()\n",
    "        print('Exponential:')\n",
    "        outputExp.pprint()\n",
    "    if mark:\n",
    "        x_plot = np.linspace(np.min(data[0]), np.max(data[0]), 1000)\n",
    "        plt.scatter(x0, exp(outputExp.beta, x0), c='lime', zorder=3)\n",
    "        plt.scatter(data[0][:threshold], data[1][:threshold], c='red', s=8)\n",
    "        plt.scatter(data[0][threshold:], data[1][threshold:], c='blue', s=8)\n",
    "        plt.plot(x_plot, exp(outputExp.beta, x_plot), c='blue', linewidth=.8)\n",
    "        plt.plot(x_plot, lin(outputLin.beta, x_plot), c='red', linewidth=.8)\n",
    "    \n",
    "    return outputLin.beta, outputExp.beta, x0, sx0\n",
    "\n",
    "def plot_planck(data_fit, realData, wavelength, name, save=False, hide=False):\n",
    "    fig, ax = plt.subplots(dpi=150)\n",
    "\n",
    "    plt.rcParams[\"font.family\"] = \"times\"\n",
    "    plt.rcParams[\"text.usetex\"] = True\n",
    "\n",
    "    x_lin = np.linspace(min(realData[0]), data_fit[2], 1000)\n",
    "    x_exp = np.linspace(data_fit[2], max(realData[0])+.1, 1000)\n",
    "\n",
    "    ax.errorbar(realData[0], realData[1],\n",
    "                xerr=realData[2], yerr=realData[3],\n",
    "                capsize=4,\n",
    "                ecolor='black',\n",
    "                elinewidth=.6,\n",
    "                capthick=.6,\n",
    "                markersize=4, fmt=\"s\",\n",
    "                markeredgecolor='none', c=\"black\",\n",
    "                label=f'Photocurrent at $\\lambda$={wavelength}nm',\n",
    "                zorder=2)\n",
    "    ax.plot(x_lin, lin(data_fit[0], x_lin),\n",
    "            c='red',\n",
    "            linewidth=.8,\n",
    "            label='Piecewise fit',\n",
    "            zorder=3)\n",
    "    ax.plot(x_exp, exp(data_fit[1], x_exp),\n",
    "            c='red',\n",
    "            linewidth=.8,\n",
    "            zorder=3)\n",
    "    for i in [data_fit[2]+data_fit[3], data_fit[2]-data_fit[3]]:\n",
    "        ax.axvline(i,\n",
    "                color='grey',\n",
    "                linestyle='--',\n",
    "                linewidth=0.8,\n",
    "                zorder=3)\n",
    "    ax.axvline(data_fit[2],\n",
    "                color='grey',\n",
    "                linestyle='-',\n",
    "                linewidth=0.8,\n",
    "                zorder=3)\n",
    "    ax.set_ylabel('Anode current [nA]', fontsize=12)\n",
    "    ax.set_xlabel('Counter voltage [V]', fontsize=12)\n",
    "    ax.xaxis.set_minor_locator(AutoMinorLocator(2))\n",
    "    ax.yaxis.set_minor_locator(AutoMinorLocator(2))\n",
    "    ax.tick_params(axis='x', which='both',direction='in', labelsize=12, width=1, length=2, bottom=True, top=True)\n",
    "    ax.tick_params(axis='y', which='both',direction='in', labelsize=12, left=True, right=True)\n",
    "\n",
    "    plt.annotate(f'{data_fit[2][0]:.3f}', xy=(data_fit[2], ax.get_ylim()[1]), ha='center', va='bottom')\n",
    "\n",
    "    handles, labels = plt.gca().get_legend_handles_labels()\n",
    "    order = [1, 0]  \n",
    "\n",
    "    plt.legend([handles[idx] for idx in order],\n",
    "           [labels[idx] for idx in order],\n",
    "           loc=\"upper left\",\n",
    "           bbox_to_anchor=(0.02, 0.98),\n",
    "           fancybox=False,\n",
    "           edgecolor='black',\n",
    "           fontsize=10)\n",
    "    if hide:\n",
    "        plt.close()\n",
    "    if save:\n",
    "        fig.savefig(f'/Users/danielmiksch/Downloads/{name}.pdf')\n",
    "\n",
    "\n",
    "def plot_boltzmann(x_data, y_data, temp, name, save=False, hide=False):\n",
    "\n",
    "        def exponential(x, A, B):\n",
    "                return A*np.exp(B*x)\n",
    "\n",
    "        popt, pcov = curve_fit(exponential, unumpy.nominal_values(x_data), unumpy.nominal_values(y_data), sigma=unumpy.std_devs(y_data), absolute_sigma=True)\n",
    "        B = ufloat(popt[1], np.sqrt(pcov[1][1]))\n",
    "        kB = constants.e/((ufloat(temp, .1)+273.15)*B)\n",
    "\n",
    "        fig, ax = plt.subplots(dpi=100)\n",
    "\n",
    "        plt.rcParams[\"font.family\"] = \"times\"\n",
    "        plt.rcParams[\"text.usetex\"] = True\n",
    "\n",
    "        x = np.linspace(min(unumpy.nominal_values(x_data)), max(unumpy.nominal_values(x_data)), 1000)\n",
    "\n",
    "        ax.errorbar(unumpy.nominal_values(x_data), unumpy.nominal_values(y_data),\n",
    "                capsize=4,\n",
    "                xerr=unumpy.std_devs(x_data), yerr=unumpy.std_devs(y_data),\n",
    "                ecolor='black',\n",
    "                elinewidth=.6,\n",
    "                capthick=.6,\n",
    "                markersize=4, fmt=\"s\",\n",
    "                markeredgecolor='none', c=\"black\",\n",
    "                label=f'Collector current at T={name}',\n",
    "                zorder=2)\n",
    "        ax.plot(x, exponential(x, popt[0], popt[1]),\n",
    "                c='red',\n",
    "                linewidth=.8,\n",
    "                label='Exponential fit',\n",
    "                zorder=3)\n",
    "        ax.set_yscale('log')\n",
    "        ax.set_ylabel('Collector current [V]', fontsize=12)\n",
    "        ax.set_xlabel('Base-emitter voltage [V]', fontsize=12)\n",
    "        ax.xaxis.set_minor_locator(AutoMinorLocator(2))\n",
    "        ax.yaxis.set_minor_locator(LogLocator(base=10.0, subs='auto', numticks=None))\n",
    "        ax.tick_params(axis='x', which='both',direction='in', labelsize=12, width=1, length=2, bottom=True, top=True)\n",
    "        ax.tick_params(axis='y', which='both',direction='in', labelsize=12, left=True, right=True)\n",
    "\n",
    "        handles, labels = plt.gca().get_legend_handles_labels()\n",
    "        order = [1, 0]  \n",
    "\n",
    "        plt.legend([handles[idx] for idx in order],\n",
    "                [labels[idx] for idx in order],\n",
    "                loc=\"upper left\",\n",
    "                bbox_to_anchor=(0.02, 0.98),\n",
    "                fancybox=False,\n",
    "                edgecolor='black',\n",
    "                fontsize=10)\n",
    "        if hide:\n",
    "                plt.close()\n",
    "        if save:\n",
    "                fig.savefig(f'/Users/danielmiksch/Downloads/{name}.pdf')\n",
    "        return kB, popt\n",
    "\n",
    "def format_uncert(value):\n",
    "    val = unumpy.nominal_values(value)\n",
    "    err = unumpy.std_devs(value)\n",
    "    if val != 0:\n",
    "        magnitude = np.floor(np.log10(abs(val)))\n",
    "    else:\n",
    "        magnitude = 0\n",
    "    norm_val = val / (10**magnitude)\n",
    "    norm_err = err / (10**magnitude)\n",
    "\n",
    "    formatted = f'{norm_val}e{int(magnitude)} ± {norm_err}e{int(magnitude)}'\n",
    "    print(formatted)"
   ]
  },
  {
   "cell_type": "markdown",
   "id": "f2b2bd2d",
   "metadata": {},
   "source": [
    "## Fits"
   ]
  },
  {
   "cell_type": "code",
   "execution_count": 9,
   "id": "bbfb8751",
   "metadata": {},
   "outputs": [],
   "source": [
    "data_fits = []\n",
    "for i in [data366, data405, data436, data546, data578]:\n",
    "    x, y, sy, sx = i[:,0], i[:,1], i[:,2], calc_sx(i[:,0], 10)\n",
    "    data_fits.append([x, y, sx, sy])"
   ]
  },
  {
   "cell_type": "code",
   "execution_count": 10,
   "id": "ef6b0e66",
   "metadata": {},
   "outputs": [
    {
     "name": "stderr",
     "output_type": "stream",
     "text": [
      "/var/folders/_s/ymfv76ms5rs0hd9l43mh92_80000gn/T/ipykernel_53179/2253035169.py:3: RuntimeWarning: overflow encountered in exp\n",
      "  return A+B*(np.exp(C*(x-U)-1))\n",
      "/Users/danielmiksch/miniconda3/envs/juplab/lib/python3.10/site-packages/scipy/optimize/_minpack_py.py:177: RuntimeWarning: The iteration is not making good progress, as measured by the \n",
      "  improvement from the last ten iterations.\n",
      "  warnings.warn(msg, RuntimeWarning)\n"
     ]
    }
   ],
   "source": [
    "fit366 =  piecewise(data_fits[0], 8, -1.3, betaLin=[1,1,1], betaExp=[1,1,1,-1], mark=False, print_beta=False) #data366\n",
    "fit405 = piecewise(data_fits[1], 10, -1.3, betaLin=[1,1,1], betaExp=[0,.5,1,-1.39], mark=False, print_beta=False) #data405\n",
    "fit436 = piecewise(data_fits[2], 10, -1.3, betaLin=[1,1,1], betaExp=[0,.5,1,-1.39], mark=False, print_beta=False) #data436\n",
    "fit546 = piecewise(data_fits[3], 10, -1.3, betaLin=[1,1,1], betaExp=[0,.5,1,-1.39], mark=False, print_beta=False) #data546\n",
    "fit578 = piecewise(data_fits[4], 13, -.5, betaLin=[1,1,1], betaExp=[0,1,0,0], mark=False, print_beta=False) #data578\n",
    "\n",
    "breakingVoltage_display = np.array([f'{i[2][0]}+/-{i[3]} V' for i in [fit366, fit405, fit436, fit546, fit578]])"
   ]
  },
  {
   "cell_type": "markdown",
   "id": "6510ee1e",
   "metadata": {},
   "source": [
    "## Plots"
   ]
  },
  {
   "cell_type": "code",
   "execution_count": 11,
   "id": "aa8b86e7",
   "metadata": {},
   "outputs": [],
   "source": [
    "plot_planck(fit366, data_fits[0], 366, 'fit366', save=False, hide=True,)\n",
    "plot_planck(fit405, data_fits[1], 405, 'fit405', save=False, hide=True,)\n",
    "plot_planck(fit436, data_fits[2], 436, 'fit436', save=False, hide=True,)\n",
    "plot_planck(fit546, data_fits[3], 546, 'fit546', save=False, hide=True,)\n",
    "plot_planck(fit578, data_fits[4], 578, 'fit578', save=False, hide=True,)"
   ]
  },
  {
   "cell_type": "code",
   "execution_count": 12,
   "id": "0ed7329b",
   "metadata": {},
   "outputs": [],
   "source": [
    "breakingVoltage = np.array([abs(i[2][0]) for i in [fit366, fit405, fit436, fit546, fit578]])\n",
    "sBV = np.array([i[3] for i in [fit366, fit405, fit436, fit546, fit578]])\n",
    "freq = constants.c / (np.array([366, 405, 436, 546, 578])*1e-9)\n",
    "sFreq = constants.c / (np.array([366, 405, 436, 546, 578])*1e-9) * 0.01"
   ]
  },
  {
   "cell_type": "markdown",
   "id": "4334a031",
   "metadata": {},
   "source": [
    "### Plot breaking voltages"
   ]
  },
  {
   "cell_type": "code",
   "execution_count": 13,
   "id": "2d1eb7a6",
   "metadata": {},
   "outputs": [
    {
     "data": {
      "text/plain": [
       "<bound method Output.pprint of <scipy.odr._odrpack.Output object at 0x13fd8a8c0>>"
      ]
     },
     "execution_count": 13,
     "metadata": {},
     "output_type": "execute_result"
    }
   ],
   "source": [
    "def linear(p, x):\n",
    "    A, B = p\n",
    "    return A+B*x\n",
    "\n",
    "model_lin = Model(linear)\n",
    "data_lin = RealData(x=freq, y=breakingVoltage, sx=sFreq, sy=sBV)\n",
    "odrLin = ODR(data_lin, model_lin, beta0=[-1, 1e-10])\n",
    "lin_output = odrLin.run()\n",
    "lin_output.pprint"
   ]
  },
  {
   "cell_type": "code",
   "execution_count": 14,
   "id": "1b91f869",
   "metadata": {},
   "outputs": [
    {
     "data": {
      "image/png": "[encoded data removed]",
      "text/plain": [
       "<Figure size 960x720 with 1 Axes>"
      ]
     },
     "metadata": {},
     "output_type": "display_data"
    }
   ],
   "source": [
    "fig, ax = plt.subplots(dpi=150)\n",
    "\n",
    "plt.rcParams[\"font.family\"] = \"times\"\n",
    "plt.rcParams[\"text.usetex\"] = True\n",
    "\n",
    "x = np.linspace(5, 8.5, 1000)\n",
    "\n",
    "\n",
    "ax.errorbar(freq / 1e14, breakingVoltage,\n",
    "            capsize=4,\n",
    "            xerr=sFreq / 1e14, yerr=sBV,\n",
    "            ecolor='black',\n",
    "            elinewidth=.6,\n",
    "            capthick=.6,\n",
    "            markersize=4, fmt=\"s\",\n",
    "            markeredgecolor='none', c=\"black\",\n",
    "            label=f'Breaking voltage determined by piecewise fitting',\n",
    "            zorder=2)\n",
    "ax.set_xlim(5, 8.5)\n",
    "ax.plot(x, linear([lin_output.beta[0], lin_output.beta[1] * 1e14], x),\n",
    "        c='red',\n",
    "        linewidth=.8,\n",
    "        label='Linear fit',\n",
    "        zorder=3)\n",
    "ax.set_ylabel('Breaking voltage [V]', fontsize=12)\n",
    "ax.set_xlabel(r'Frequency [$10^{14}$Hz]', fontsize=12)\n",
    "ax.xaxis.set_minor_locator(AutoMinorLocator(2))\n",
    "ax.yaxis.set_minor_locator(AutoMinorLocator(2))\n",
    "ax.tick_params(axis='x', which='both',direction='in', labelsize=12, width=1, length=2, bottom=True, top=True)\n",
    "ax.tick_params(axis='y', which='both',direction='in', labelsize=12, left=True, right=True)\n",
    "\n",
    "handles, labels = plt.gca().get_legend_handles_labels()\n",
    "order = [1, 0]  \n",
    "\n",
    "plt.legend([handles[idx] for idx in order],\n",
    "        [labels[idx] for idx in order],\n",
    "        loc=\"upper left\",\n",
    "        bbox_to_anchor=(0.02, 0.98),\n",
    "        fancybox=False,\n",
    "        edgecolor='black',\n",
    "        fontsize=10)\n",
    "plt.show()\n",
    "\n",
    "# fig.savefig('/Users/danielmiksch/Downloads/breaking_voltages.pdf')"
   ]
  },
  {
   "cell_type": "markdown",
   "id": "51e7afb0",
   "metadata": {},
   "source": [
    "## Final result of the Planck constant"
   ]
  },
  {
   "cell_type": "code",
   "execution_count": 15,
   "id": "834bc7ac",
   "metadata": {},
   "outputs": [
    {
     "data": {
      "text/plain": [
       "6.256753010448323+/-0.6213589014422587"
      ]
     },
     "execution_count": 15,
     "metadata": {},
     "output_type": "execute_result"
    }
   ],
   "source": [
    "planck = ufloat(lin_output.beta[1], np.sqrt(lin_output.cov_beta[1][1])) * constants.e\n",
    "planck * 1e34 #in 10^-34 Js"
   ]
  },
  {
   "cell_type": "code",
   "execution_count": 16,
   "id": "e0961798",
   "metadata": {},
   "outputs": [
    {
     "data": {
      "text/plain": [
       "'9.931012146470135%'"
      ]
     },
     "execution_count": 16,
     "metadata": {},
     "output_type": "execute_result"
    }
   ],
   "source": [
    "relatice_err = planck.std_dev / planck.nominal_value\n",
    "f'{relatice_err * 100}%' "
   ]
  },
  {
   "cell_type": "markdown",
   "id": "3b1934e8",
   "metadata": {},
   "source": [
    "# Measuring the Boltzmann constant"
   ]
  },
  {
   "cell_type": "markdown",
   "id": "5fe12484",
   "metadata": {},
   "source": [
    "### Data"
   ]
  },
  {
   "cell_type": "code",
   "execution_count": 17,
   "id": "8d91f677",
   "metadata": {},
   "outputs": [],
   "source": [
    "path_boltzmann = '/Users/danielmiksch/Library/CloudStorage/OneDrive-Persönlich/Uni/C-Praktikum/C45/Boltzmann/*.csv'\n",
    "data120C, data40C, data80C = load_data(path=path_boltzmann)"
   ]
  },
  {
   "cell_type": "code",
   "execution_count": 18,
   "id": "e1ea1350",
   "metadata": {},
   "outputs": [],
   "source": [
    "V40 = unumpy.uarray(data40C[:,0], [0.00025*i+0.00006*1 for i in data40C[:,0]]) # in V\n",
    "I40 = unumpy.uarray(data40C[:,1], [0.0005*i+0.00015*10 for i in data40C[:,1]]) # in mA \n",
    "\n",
    "V80 = unumpy.uarray(data80C[:,0], [0.00025*i+0.00006*1 for i in data80C[:,0]])\n",
    "I80 = unumpy.uarray(data80C[:,1], [0.0005*i+0.00015*10 for i in data80C[:,1]])\n",
    "\n",
    "V120 = unumpy.uarray(data120C[:,0], [0.00025*i+0.00006*1 for i in data120C[:,0]])\n",
    "I120 = unumpy.uarray(data120C[:,1], [0.0005*i+0.00015*10 for i in data120C[:,1]])"
   ]
  },
  {
   "cell_type": "markdown",
   "id": "cf40b292",
   "metadata": {},
   "source": [
    "### Fit"
   ]
  },
  {
   "cell_type": "code",
   "execution_count": 19,
   "id": "2470da01",
   "metadata": {},
   "outputs": [],
   "source": [
    "def exponential(x, A, B):\n",
    "    return A*np.exp(B*x)\n",
    "\n",
    "popt, pcov = curve_fit(exponential, unumpy.nominal_values(V40), unumpy.nominal_values(I40), sigma=unumpy.std_devs(I40), absolute_sigma=True)"
   ]
  },
  {
   "cell_type": "markdown",
   "id": "52025413",
   "metadata": {},
   "source": [
    "### Plot"
   ]
  },
  {
   "cell_type": "code",
   "execution_count": 20,
   "id": "bd10c908",
   "metadata": {},
   "outputs": [
    {
     "name": "stdout",
     "output_type": "stream",
     "text": [
      "1.4752018596169096e-23 ± 0.0006675703450098001e-23\n"
     ]
    }
   ],
   "source": [
    "kB40, popt40 = plot_boltzmann(V40, I40, 40, '40°C', save=False, hide=True)\n",
    "kB80, popt80 = plot_boltzmann(V80, I80, 80, '80°C', save=False, hide=True)\n",
    "kB120, popt120 = plot_boltzmann(V120, I120, 120, '120°C', save=False, hide=True)\n",
    "kBs = [kB40, kB80, kB120]\n",
    "format_uncert(kB120)"
   ]
  },
  {
   "cell_type": "code",
   "execution_count": 21,
   "id": "cf6a31c0",
   "metadata": {},
   "outputs": [
    {
     "data": {
      "text/plain": [
       "1.4876962063535354e-23+/-4.13387437075528e-27"
      ]
     },
     "execution_count": 21,
     "metadata": {},
     "output_type": "execute_result"
    }
   ],
   "source": [
    "kB_mean = np.mean(kBs)\n",
    "kB_mean"
   ]
  },
  {
   "cell_type": "code",
   "execution_count": 22,
   "id": "90cbd4ba",
   "metadata": {},
   "outputs": [
    {
     "name": "stdout",
     "output_type": "stream",
     "text": [
      "1.4876962063535355e-23 ± 0.00041338743707552804e-23\n"
     ]
    }
   ],
   "source": [
    "format_uncert(kB_mean)"
   ]
  },
  {
   "cell_type": "markdown",
   "id": "7b6594c6",
   "metadata": {},
   "source": [
    "### Residuals"
   ]
  },
  {
   "cell_type": "code",
   "execution_count": 25,
   "id": "f3f78668",
   "metadata": {},
   "outputs": [],
   "source": [
    "def calc_residuals(x_data, y_data, model, popt):\n",
    "    residuals = unumpy.nominal_values(y_data) - model(unumpy.nominal_values(x_data), popt[0], popt[1])\n",
    "    return residuals"
   ]
  },
  {
   "cell_type": "code",
   "execution_count": 28,
   "id": "1e16c05d",
   "metadata": {},
   "outputs": [],
   "source": [
    "res40 = calc_residuals(V40, I40, exponential, popt40)\n",
    "res80 = calc_residuals(V80, I80, exponential, popt80)\n",
    "res120 = calc_residuals(V120, I120, exponential, popt120)"
   ]
  },
  {
   "cell_type": "code",
   "execution_count": 27,
   "id": "640966fb",
   "metadata": {},
   "outputs": [
    {
     "data": {
      "text/plain": [
       "<matplotlib.collections.PathCollection at 0x14c627fa0>"
      ]
     },
     "execution_count": 27,
     "metadata": {},
     "output_type": "execute_result"
    },
    {
     "data": {
      "image/png": "[encoded data removed]",
      "text/plain": [
       "<Figure size 640x480 with 1 Axes>"
      ]
     },
     "metadata": {},
     "output_type": "display_data"
    }
   ],
   "source": [
    "plt.scatter(unumpy.nominal_values(V40), calc_residuals(V40, I40, exponential, popt40))"
   ]
  },
  {
   "cell_type": "code",
   "execution_count": 36,
   "id": "3a26bb1e",
   "metadata": {},
   "outputs": [],
   "source": [
    "def plot_residuals(x_data, residuals, temp, name, save=False, hide=False):\n",
    "    fig, ax = plt.subplots(dpi=150)\n",
    "\n",
    "    plt.rcParams[\"font.family\"] = \"times\"\n",
    "    plt.rcParams[\"text.usetex\"] = True\n",
    "    ax.errorbar(unumpy.nominal_values(x_data), residuals,\n",
    "                xerr=None, yerr=None,\n",
    "                capsize=4,\n",
    "                ecolor='red',\n",
    "                elinewidth=.6,\n",
    "                capthick=.6,\n",
    "                markersize=6, fmt=\"s\",\n",
    "                markeredgecolor='none', c=\"red\",\n",
    "                label=f'Residuals of T={temp}°C',\n",
    "                zorder=2)\n",
    "    ax.axhline(0,\n",
    "                color='grey',\n",
    "                linestyle='-',\n",
    "                linewidth=0.8,\n",
    "                zorder=3)\n",
    "    ax.set_ylabel('Residuals [mA]', fontsize=12)\n",
    "    ax.set_xlabel('Base-emitter voltage [V]', fontsize=12)\n",
    "    ax.xaxis.set_minor_locator(AutoMinorLocator(2))\n",
    "    ax.yaxis.set_minor_locator(AutoMinorLocator(2))\n",
    "    ax.tick_params(axis='x', which='both',direction='in', labelsize=12, width=1, length=2, bottom=True, top=True)\n",
    "    ax.tick_params(axis='y', which='both',direction='in', labelsize=12, left=True, right=True)\n",
    "    handles, labels = plt.gca().get_legend_handles_labels()\n",
    "    order = [0]  \n",
    "\n",
    "    plt.legend([handles[idx] for idx in order],\n",
    "           [labels[idx] for idx in order],\n",
    "           loc=\"upper left\",\n",
    "           bbox_to_anchor=(0.02, 0.98),\n",
    "           fancybox=False,\n",
    "           edgecolor='black',\n",
    "           fontsize=10)\n",
    "    if hide:\n",
    "        plt.close()\n",
    "    if save:\n",
    "        fig.savefig(f'/Users/danielmiksch/Downloads/{name}.pdf')"
   ]
  },
  {
   "cell_type": "code",
   "execution_count": 37,
   "id": "9768b159",
   "metadata": {},
   "outputs": [
    {
     "data": {
      "image/png": "[encoded data removed]",
      "text/plain": [
       "<Figure size 960x720 with 1 Axes>"
      ]
     },
     "metadata": {},
     "output_type": "display_data"
    }
   ],
   "source": [
    "plot_residuals(V40, res40, 40, 'test', save=False, hide=False)"
   ]
  },
  {
   "cell_type": "code",
   "execution_count": null,
   "id": "9e43ebb1",
   "metadata": {},
   "outputs": [],
   "source": []
  }
 ],
 "metadata": {
  "kernelspec": {
   "display_name": "Python 3",
   "language": "python",
   "name": "python3"
  },
  "language_info": {
   "codemirror_mode": {
    "name": "ipython",
    "version": 3
   },
   "file_extension": ".py",
   "mimetype": "text/x-python",
   "name": "python",
   "nbconvert_exporter": "python",
   "pygments_lexer": "ipython3",
   "version": "3.10.10"
  }
 },
 "nbformat": 4,
 "nbformat_minor": 5
}
